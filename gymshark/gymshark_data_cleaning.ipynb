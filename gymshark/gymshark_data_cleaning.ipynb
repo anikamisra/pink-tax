{
 "cells": [
  {
   "cell_type": "markdown",
   "metadata": {},
   "source": [
    "## Exploratory data analysis"
   ]
  },
  {
   "cell_type": "code",
   "execution_count": 17,
   "metadata": {},
   "outputs": [
    {
     "data": {
      "text/html": [
       "<div>\n",
       "<style scoped>\n",
       "    .dataframe tbody tr th:only-of-type {\n",
       "        vertical-align: middle;\n",
       "    }\n",
       "\n",
       "    .dataframe tbody tr th {\n",
       "        vertical-align: top;\n",
       "    }\n",
       "\n",
       "    .dataframe thead th {\n",
       "        text-align: right;\n",
       "    }\n",
       "</style>\n",
       "<table border=\"1\" class=\"dataframe\">\n",
       "  <thead>\n",
       "    <tr style=\"text-align: right;\">\n",
       "      <th></th>\n",
       "      <th>Product</th>\n",
       "      <th>Price</th>\n",
       "    </tr>\n",
       "  </thead>\n",
       "  <tbody>\n",
       "    <tr>\n",
       "      <th>0</th>\n",
       "      <td>Vital Seamless T-Shirt</td>\n",
       "      <td>$30</td>\n",
       "    </tr>\n",
       "    <tr>\n",
       "      <th>1</th>\n",
       "      <td>React Drop Arm Tank</td>\n",
       "      <td>$24</td>\n",
       "    </tr>\n",
       "    <tr>\n",
       "      <th>2</th>\n",
       "      <td>Sport Shorts</td>\n",
       "      <td>$38</td>\n",
       "    </tr>\n",
       "    <tr>\n",
       "      <th>3</th>\n",
       "      <td>Lightweight Jersey Shorts</td>\n",
       "      <td>$32</td>\n",
       "    </tr>\n",
       "    <tr>\n",
       "      <th>4</th>\n",
       "      <td>Arrival Shorts</td>\n",
       "      <td>$26</td>\n",
       "    </tr>\n",
       "  </tbody>\n",
       "</table>\n",
       "</div>"
      ],
      "text/plain": [
       "                     Product Price\n",
       "0     Vital Seamless T-Shirt   $30\n",
       "1        React Drop Arm Tank   $24\n",
       "2               Sport Shorts   $38\n",
       "3  Lightweight Jersey Shorts   $32\n",
       "4             Arrival Shorts   $26"
      ]
     },
     "execution_count": 17,
     "metadata": {},
     "output_type": "execute_result"
    }
   ],
   "source": [
    "path = \"\" # your path to github repo here \n",
    "\n",
    "mens_df = pd.read_csv(f'{path}/gymshark/m_df_scraped_jul_14.csv')\n",
    "womens_df = pd.read_csv(f'{path}/gymshark/w_df_scraped_jul_14.csv')\n",
    "womens_df = womens_df.drop(columns = [\"Unnamed: 0\"])\n",
    "mens_df = mens_df.drop(columns = [\"Unnamed: 0\"])\n",
    "mens_df.head()                     "
   ]
  },
  {
   "cell_type": "code",
   "execution_count": 15,
   "metadata": {},
   "outputs": [
    {
     "name": "stdout",
     "output_type": "stream",
     "text": [
      "----------------------------------------------\n",
      "These are the unique items, based on the last word, for women: \n",
      "['Straps' 'Leggings' '3pk' '5pk' 'Crew' 'Shorts' 'Bra' 'Backpack' 'Bag'\n",
      " 'Cap' 'Top' 'T-Shirt' 'Tracktop' 'Joggers' 'Bandeau' 'Tank']\n",
      "16  unique items (based on last word) for womens\n",
      "\n",
      "\n",
      "----------------------------------------------\n",
      "These are the unique items, based on the last two words, for women: \n",
      "['Lifting Straps' '2.0 Leggings' 'Socks 3pk' 'Socks 5pk' 'Graphic Crew'\n",
      " 'Seamless Leggings' 'Seamless Shorts' 'Sports Bra' 'Pocket Shorts'\n",
      " 'Sharkhead Backpack' 'Gym Bag' 'Sharkhead Cap' 'Graphic Top'\n",
      " 'Graphic T-Shirt' 'Zip Tracktop' 'Oversized T-Shirt' 'Power Joggers'\n",
      " 'Out Bandeau' 'Crop Top' 'Fleece Joggers' '2.0 Shorts' 'Elevate Leggings'\n",
      " 'Waisted Leggings' 'Cycling Shorts' 'Seamless Tank' 'Sleek Backpack'\n",
      " 'Oversized Joggers' 'Crop Tank']\n",
      "28  unique items (based on last 2 words) for womens\n"
     ]
    }
   ],
   "source": [
    "# see how many unique items there are based on last word \n",
    "last_word_w = womens_df['Product'].str.split().str[-1]\n",
    "print(\"----------------------------------------------\")\n",
    "print(\"These are the unique items, based on the last word, for women: \")\n",
    "print(last_word_w.unique())\n",
    "print(len(last_word_w.unique()), \" unique items (based on last word) for womens\")\n",
    "print(\"\\n\")\n",
    "print(\"----------------------------------------------\")\n",
    "last_2_words_w = womens_df['Product'].str.split().str[-2:]\n",
    "last_2_words_w = last_2_words_w.str.join(' ')\n",
    "print(\"These are the unique items, based on the last two words, for women: \")\n",
    "print(last_2_words_w.unique())\n",
    "print(len(last_2_words_w.unique()), \" unique items (based on last 2 words) for womens\")"
   ]
  },
  {
   "cell_type": "code",
   "execution_count": 14,
   "metadata": {},
   "outputs": [
    {
     "name": "stdout",
     "output_type": "stream",
     "text": [
      "----------------------------------------------\n",
      "These are the unique items, based on the last word, for men: \n",
      "['T-Shirt' 'Tank' 'Shorts' 'Joggers' 'Hoodie' 'Stringer' '3PK' 'Crew'\n",
      " 'Fit)']\n",
      "9  unique items (based on last word) for mens\n",
      "\n",
      "\n",
      "----------------------------------------------\n",
      "These are the unique items, based on the last two words, for men: \n",
      "['Seamless T-Shirt' 'Arm Tank' 'Sport Shorts' 'Jersey Shorts'\n",
      " 'Arrival Shorts' '5\" Shorts' 'Crest Shorts' 'Crest Joggers' '7\" Shorts'\n",
      " 'Oversized Joggers' 'Oversized T-Shirt' 'Power T-Shirt'\n",
      " 'Oversized Hoodie' 'Legacy T-Shirt' 'React Stringer' 'Marl T-Shirt'\n",
      " 'Fit T-Shirt' 'Crest T-Shirt' 'Washed T-Shirt' 'Washed Hoodie'\n",
      " 'Woven Joggers' 'Crest Hoodie' 'Cover T-Shirt' 'Studio Shorts'\n",
      " 'Arrival T-Shirt' 'Brief 3PK' 'Essential Crew' '(Reg Fit)' 'Cargo Shorts']\n",
      "29  unique items (based on last 2 word) for mens\n"
     ]
    }
   ],
   "source": [
    "print(\"----------------------------------------------\")\n",
    "print(\"These are the unique items, based on the last word, for men: \")\n",
    "last_word_m = mens_df['Product'].str.split().str[-1]\n",
    "print(last_word_m.unique())\n",
    "print(len(last_word_m.unique()), \" unique items (based on last word) for mens\")\n",
    "print(\"\\n\")\n",
    "print(\"----------------------------------------------\")\n",
    "last_2_words_m = mens_df['Product'].str.split().str[-2:]\n",
    "print(\"These are the unique items, based on the last two words, for men: \")\n",
    "last_2_words_m = last_2_words_m.str.join(' ')\n",
    "print(last_2_words_m.unique())\n",
    "print(len(last_2_words_m.unique()), \" unique items (based on last 2 word) for mens\")"
   ]
  },
  {
   "cell_type": "markdown",
   "metadata": {},
   "source": [
    "This tells us all the different product types except for the second-to-last entry, \"(Reg fit)\", which only tells us the type of fit the item is. Let's see how many items have this string in their name and what they are (so we can see if we need to add any more items asides from the above list.)"
   ]
  },
  {
   "cell_type": "code",
   "execution_count": 9,
   "metadata": {},
   "outputs": [
    {
     "name": "stdout",
     "output_type": "stream",
     "text": [
      "['Arrival T-Shirt (Reg Fit)']\n"
     ]
    }
   ],
   "source": [
    "reg_fit_products = mens_df[mens_df['Product'].str.contains(\"\\(Reg Fit\\)\")]\n",
    "print(reg_fit_products['Product'].unique())"
   ]
  },
  {
   "cell_type": "markdown",
   "metadata": {},
   "source": [
    "Yup, it's still a t-shirt, which was already mentioned. \n",
    "\n",
    "## Categorizing items \n",
    "\n",
    "Because there are so few different types of items, I can definitely just manually decide how to create categories. However, for future websites where the product type isn't as clear, I can use Chat GPT directly to assign labels. (For future websites I should also convert all strings to lowercase before finding the unique values, but it wasn't necessary for this website.)\n",
    "\n",
    "Based on just the last word and last two words, we can use the following categories. \n",
    "\n",
    "\n",
    "**Womens simplified labels**\n",
    "| String in product name      | Specific category |  General category |\n",
    "| ----------- | ----------- | ----------- | \n",
    "| \"Leggings\"      | Leggings       | Pants | \n",
    "| \"Shorts\"      | Shorts       | Shorts | \n",
    "| \"Joggers\"      | Sweatpants       | Pants | \n",
    "| \"Crew\"      | Sweatshirt       | Outerwear | \n",
    "| \"T-shirt\"      | T-shirt       | Tops | \n",
    "| \"Tank\"      | Tank       | Tops |\n",
    "| All other tops |  Other top | Tops  | \n",
    "| \"Backpack\", \"Bag\"      | Bags       | Other | \n",
    "| \"Bra\", \"Bandeau\"      | Bra       | Underwear (bra) | \n",
    "| \"Straps\", \"      | Leggings       | Pants | \n",
    "| \"Socks 3pk\"      | Socks 3pk       | Socks 3pk | \n",
    "| \"Socks 5pk\"      | Socks 5pk       | Socks 5pk |\n",
    "| Everything else      | Other       | Other |  \n",
    "\n",
    "Note: Since \"Tank\" goes in the tank category, that means \"crop tank\" also goes into that category. I put \"crop tank\" in the \"tank\" category as opposed to the \"crop top\" category because it is still a type of tank whereas crop tops appear to be general tops, cropped. However this decision is subjective. \n",
    "\n",
    "\n",
    "**Mens simplified labels**\n",
    "| String in product name      | Specific category |  General category |\n",
    "| ----------- | ----------- | ----------- | \n",
    "| \"T-shirt\", \"(Reg fit)\"      | T-shirt       | Tops | \n",
    "| \"Tank\", \"Stringer\"      | Tank       | Tops | \n",
    "| \"Shorts\"      | Shorts       | Pants | \n",
    "| \"Joggers\"      | Sweaptants       | Pants | \n",
    "| \"Hoodie\", \"Crew\"      | Sweatshirt       | Outerwear | \n",
    "| \"Brief 3PK\"      | Underwear       | Underwear | \n",
    "| Everything else      | Other       | Other |\n",
    "\n",
    "Let's get to categorizing."
   ]
  },
  {
   "cell_type": "code",
   "execution_count": 10,
   "metadata": {},
   "outputs": [],
   "source": [
    "# key: string in product name \n",
    "# value: specific category \n",
    "specific_category_map_w = {\n",
    "    'Leggings': 'Leggings', \n",
    "    'Shorts': 'Shorts',\n",
    "    'Joggers': 'Sweatpants', \n",
    "    'Crew': 'Crew',  \n",
    "    'CropTop' : 'Crop top', \n",
    "    'Croptop': 'Crop top', \n",
    "    'T-Shirt' : 'T-shirt',\n",
    "    #'Crop Tank' : 'Tank', \n",
    "    'Tank': 'Tank', \n",
    "    'Tracktop' : 'Other top',\n",
    "    'Top': 'Other top',  \n",
    "    'Bra': 'Bra',\n",
    "    'Bandeau' : 'Bra', \n",
    "    'Backpack': 'Bag', \n",
    "    'Bag': 'Bag', \n",
    "    'Socks3pk': 'Socks 3-pack', \n",
    "    'Socks5pk' : 'Socks 5-pack'\n",
    "}\n",
    "\n",
    "general_category_map_w = {\n",
    "    'Leggings': 'Pants', \n",
    "    'Shorts': 'Shorts', \n",
    "    'Joggers': 'Pants', \n",
    "    'Crew': 'Outerwear', \n",
    "    'CropTop' : 'Top',\n",
    "    'Croptop': 'Top', \n",
    "    'T-shirt' : 'Top', \n",
    "    'Tank' : 'Top', \n",
    "    'Tracktop': 'Top',\n",
    "    'Top': 'Top', \n",
    "    'T-Shirt': 'Top',\n",
    "    'Bra': 'Underwear (bra)', \n",
    "    'Bandeau': 'Underwear (bra)', \n",
    "    'Bag': 'Other', \n",
    "    'Backpack': 'Other', \n",
    "    'Socks3pk': 'Socks 3pk', \n",
    "    'Socks5pk': 'Socks 5pk'\n",
    "}\n",
    "\n",
    "specific_category_map_m = {\n",
    "    'T-Shirt': 'T-shirt', \n",
    "    '(Reg Fit)' : 'T-shirt',\n",
    "    'Tank': 'Tank', \n",
    "    'Stringer': 'Tank', \n",
    "    'Shorts': 'Shorts',  \n",
    "    'Crew': 'Crew',\n",
    "    'Hoodie': 'Hoodie', \n",
    "    'Brief3PK': 'Underwear',  \n",
    "    'Joggers': 'Sweatpants'\n",
    "}\n",
    "\n",
    "general_category_map_m = {\n",
    "    'T-Shirt': 'Top', \n",
    "    '(Reg Fit)' : 'Top',\n",
    "    'Tank': 'Top', \n",
    "    'Stringer': 'Top', \n",
    "    'Shorts': 'Shorts',  \n",
    "    'Crew': 'Outerwear',\n",
    "    'Hoodie': 'Outerwear', \n",
    "    'Brief3PK': 'Underwear',  \n",
    "    'Joggers': 'Pants'\n",
    "}"
   ]
  },
  {
   "cell_type": "code",
   "execution_count": 11,
   "metadata": {},
   "outputs": [],
   "source": [
    "def combine_words(product_name):\n",
    "    words = product_name.split()\n",
    "    if words[-2:] == ['Crop', 'Top']:\n",
    "        words[-2:] = ['CropTop']\n",
    "        return ' '.join(words)\n",
    "    elif words[-2:] == ['(Reg', 'Fit)']: \n",
    "        words[-2:] = ['T-Shirt']\n",
    "        return ' '.join(words)\n",
    "    elif words[-2:] == ['Brief', '3PK']: \n",
    "        words[-2:] = ['Brief3PK']\n",
    "        return ' '.join(words)\n",
    "    elif words[-2:] == ['Socks', '3pk']: \n",
    "        words[-2:] = ['Socks3pk']\n",
    "        return ' '.join(words)\n",
    "    elif words[-2:] == ['Socks', '5pk']: \n",
    "        words[-2:] = ['Socks5pk']\n",
    "        return ' '.join(words)\n",
    "    else:\n",
    "        return product_name\n",
    "    \n",
    "def place_into_specific_cat_w(product_name):\n",
    "    last_word = product_name.split()[-1]\n",
    "    return specific_category_map_w.get(last_word, 'other')\n",
    "\n",
    "def place_into_general_cat_w(product_name):\n",
    "    last_word = product_name.split()[-1]\n",
    "    return general_category_map_w.get(last_word, 'other')\n",
    "\n",
    "def place_into_specific_cat_m(product_name): \n",
    "    last_word = product_name.split()[-1]\n",
    "    return specific_category_map_m.get(last_word, 'other')\n",
    "\n",
    "def place_into_general_cat_m(product_name):\n",
    "    last_word = product_name.split()[-1]\n",
    "    return general_category_map_m.get(last_word, 'other')\n",
    "\n",
    "womens_df['Product'] = womens_df['Product'].apply(combine_words)\n",
    "mens_df['Product'] = mens_df['Product'].apply(combine_words)\n",
    "\n",
    "womens_df['Specific Category'] = womens_df['Product'].apply(place_into_specific_cat_w)\n",
    "womens_df['General Category'] = womens_df['Product'].apply(place_into_general_cat_w)\n",
    "mens_df['Specific Category'] = mens_df['Product'].apply(place_into_specific_cat_m)\n",
    "mens_df['General Category'] = mens_df['Product'].apply(place_into_general_cat_m)"
   ]
  },
  {
   "cell_type": "code",
   "execution_count": 12,
   "metadata": {},
   "outputs": [
    {
     "data": {
      "text/html": [
       "<div>\n",
       "<style scoped>\n",
       "    .dataframe tbody tr th:only-of-type {\n",
       "        vertical-align: middle;\n",
       "    }\n",
       "\n",
       "    .dataframe tbody tr th {\n",
       "        vertical-align: top;\n",
       "    }\n",
       "\n",
       "    .dataframe thead th {\n",
       "        text-align: right;\n",
       "    }\n",
       "</style>\n",
       "<table border=\"1\" class=\"dataframe\">\n",
       "  <thead>\n",
       "    <tr style=\"text-align: right;\">\n",
       "      <th></th>\n",
       "      <th>Product</th>\n",
       "      <th>Price</th>\n",
       "      <th>Specific Category</th>\n",
       "      <th>General Category</th>\n",
       "    </tr>\n",
       "  </thead>\n",
       "  <tbody>\n",
       "    <tr>\n",
       "      <th>0</th>\n",
       "      <td>Silicone Grip Lifting Straps</td>\n",
       "      <td>$16</td>\n",
       "      <td>other</td>\n",
       "      <td>other</td>\n",
       "    </tr>\n",
       "    <tr>\n",
       "      <th>1</th>\n",
       "      <td>Vital Seamless 2.0 Leggings</td>\n",
       "      <td>$54</td>\n",
       "      <td>Leggings</td>\n",
       "      <td>Pants</td>\n",
       "    </tr>\n",
       "    <tr>\n",
       "      <th>2</th>\n",
       "      <td>Crew Socks3pk</td>\n",
       "      <td>$16</td>\n",
       "      <td>Socks 3-pack</td>\n",
       "      <td>Socks 3pk</td>\n",
       "    </tr>\n",
       "    <tr>\n",
       "      <th>3</th>\n",
       "      <td>Crew Socks5pk</td>\n",
       "      <td>$26</td>\n",
       "      <td>Socks 5-pack</td>\n",
       "      <td>Socks 5pk</td>\n",
       "    </tr>\n",
       "    <tr>\n",
       "      <th>4</th>\n",
       "      <td>Strong Girl Lifting Club Oversized Graphic Crew</td>\n",
       "      <td>$42</td>\n",
       "      <td>Crew</td>\n",
       "      <td>Outerwear</td>\n",
       "    </tr>\n",
       "  </tbody>\n",
       "</table>\n",
       "</div>"
      ],
      "text/plain": [
       "                                           Product Price Specific Category  \\\n",
       "0                     Silicone Grip Lifting Straps   $16             other   \n",
       "1                      Vital Seamless 2.0 Leggings   $54          Leggings   \n",
       "2                                    Crew Socks3pk   $16      Socks 3-pack   \n",
       "3                                    Crew Socks5pk   $26      Socks 5-pack   \n",
       "4  Strong Girl Lifting Club Oversized Graphic Crew   $42              Crew   \n",
       "\n",
       "  General Category  \n",
       "0            other  \n",
       "1            Pants  \n",
       "2        Socks 3pk  \n",
       "3        Socks 5pk  \n",
       "4        Outerwear  "
      ]
     },
     "execution_count": 12,
     "metadata": {},
     "output_type": "execute_result"
    }
   ],
   "source": [
    "womens_df.head()"
   ]
  },
  {
   "cell_type": "markdown",
   "metadata": {},
   "source": [
    "Let's make a sub-dataframe of all the \"other\" values to ensure that everything was labelled correctly. "
   ]
  },
  {
   "cell_type": "code",
   "execution_count": 13,
   "metadata": {},
   "outputs": [
    {
     "name": "stdout",
     "output_type": "stream",
     "text": [
      "Unique 'other' products in womens: \n",
      "['Silicone Grip Lifting Straps' 'Sharkhead Cap']\n",
      "['Silicone Grip Lifting Straps' 'Sharkhead Cap']\n",
      "\n",
      " Unique 'other' products in mens: \n",
      "[]\n",
      "[]\n"
     ]
    }
   ],
   "source": [
    "other_products_w_spec = womens_df[womens_df['Specific Category'] == 'other']\n",
    "other_products_w_gen = womens_df[womens_df['General Category'] == 'other']\n",
    "other_products_m_spec = mens_df[mens_df['Specific Category'] == 'other']\n",
    "other_products_m_gen = mens_df[mens_df['General Category'] == 'other']\n",
    "\n",
    "print(\"Unique 'other' products in womens: \")\n",
    "unique_other_products_sp_w = other_products_w_spec['Product'].unique()\n",
    "unique_other_products_gen_w = other_products_w_gen['Product'].unique()\n",
    "print(unique_other_products_sp_w)\n",
    "print(unique_other_products_gen_w)\n",
    "\n",
    "print(\"\\n Unique 'other' products in mens: \")\n",
    "unique_other_products_sp_m = other_products_m_spec['Product'].unique()\n",
    "unique_other_products_gen_m = other_products_m_gen['Product'].unique()\n",
    "print(unique_other_products_sp_m)\n",
    "print(unique_other_products_gen_m)\n"
   ]
  },
  {
   "cell_type": "markdown",
   "metadata": {},
   "source": [
    "Great. Looks like we did not forget to label anything properly. Next step is the analysis. "
   ]
  },
  {
   "cell_type": "code",
   "execution_count": 14,
   "metadata": {},
   "outputs": [],
   "source": [
    "womens_df.to_csv('womens_df_clean.csv', index=False)\n",
    "mens_df.to_csv('mens_df_clean.csv', index=False)"
   ]
  }
 ],
 "metadata": {
  "kernelspec": {
   "display_name": "Python 3",
   "language": "python",
   "name": "python3"
  },
  "language_info": {
   "codemirror_mode": {
    "name": "ipython",
    "version": 3
   },
   "file_extension": ".py",
   "mimetype": "text/x-python",
   "name": "python",
   "nbconvert_exporter": "python",
   "pygments_lexer": "ipython3",
   "version": "3.9.15"
  }
 },
 "nbformat": 4,
 "nbformat_minor": 2
}
