{
 "cells": [
  {
   "cell_type": "code",
   "execution_count": 42,
   "metadata": {},
   "outputs": [],
   "source": [
    "import pandas as pd\n",
    "womens_df = pd.read_csv('/Users/anikamisra/Desktop/personal-projects/pink-tax/gymshark/womens_df_clean.csv')\n",
    "mens_df = pd.read_csv('/Users/anikamisra/Desktop/personal-projects/pink-tax/gymshark/mens_df_clean.csv')"
   ]
  },
  {
   "cell_type": "code",
   "execution_count": 43,
   "metadata": {},
   "outputs": [
    {
     "data": {
      "text/html": [
       "<div>\n",
       "<style scoped>\n",
       "    .dataframe tbody tr th:only-of-type {\n",
       "        vertical-align: middle;\n",
       "    }\n",
       "\n",
       "    .dataframe tbody tr th {\n",
       "        vertical-align: top;\n",
       "    }\n",
       "\n",
       "    .dataframe thead th {\n",
       "        text-align: right;\n",
       "    }\n",
       "</style>\n",
       "<table border=\"1\" class=\"dataframe\">\n",
       "  <thead>\n",
       "    <tr style=\"text-align: right;\">\n",
       "      <th></th>\n",
       "      <th>Product</th>\n",
       "      <th>Price</th>\n",
       "      <th>Specific Category</th>\n",
       "      <th>General Category</th>\n",
       "    </tr>\n",
       "  </thead>\n",
       "  <tbody>\n",
       "    <tr>\n",
       "      <th>0</th>\n",
       "      <td>Silicone Grip Lifting Straps</td>\n",
       "      <td>$16</td>\n",
       "      <td>other</td>\n",
       "      <td>other</td>\n",
       "    </tr>\n",
       "    <tr>\n",
       "      <th>1</th>\n",
       "      <td>Vital Seamless 2.0 Leggings</td>\n",
       "      <td>$54</td>\n",
       "      <td>Leggings</td>\n",
       "      <td>Pants</td>\n",
       "    </tr>\n",
       "    <tr>\n",
       "      <th>2</th>\n",
       "      <td>Crew Socks3pk</td>\n",
       "      <td>$16</td>\n",
       "      <td>Socks 3-pack</td>\n",
       "      <td>Socks 3pk</td>\n",
       "    </tr>\n",
       "    <tr>\n",
       "      <th>3</th>\n",
       "      <td>Crew Socks5pk</td>\n",
       "      <td>$26</td>\n",
       "      <td>Socks 5-pack</td>\n",
       "      <td>Socks 5pk</td>\n",
       "    </tr>\n",
       "    <tr>\n",
       "      <th>4</th>\n",
       "      <td>Strong Girl Lifting Club Oversized Graphic Crew</td>\n",
       "      <td>$42</td>\n",
       "      <td>Crew</td>\n",
       "      <td>Outerwear</td>\n",
       "    </tr>\n",
       "  </tbody>\n",
       "</table>\n",
       "</div>"
      ],
      "text/plain": [
       "                                           Product Price Specific Category  \\\n",
       "0                     Silicone Grip Lifting Straps   $16             other   \n",
       "1                      Vital Seamless 2.0 Leggings   $54          Leggings   \n",
       "2                                    Crew Socks3pk   $16      Socks 3-pack   \n",
       "3                                    Crew Socks5pk   $26      Socks 5-pack   \n",
       "4  Strong Girl Lifting Club Oversized Graphic Crew   $42              Crew   \n",
       "\n",
       "  General Category  \n",
       "0            other  \n",
       "1            Pants  \n",
       "2        Socks 3pk  \n",
       "3        Socks 5pk  \n",
       "4        Outerwear  "
      ]
     },
     "execution_count": 43,
     "metadata": {},
     "output_type": "execute_result"
    }
   ],
   "source": [
    "womens_df.head()"
   ]
  },
  {
   "cell_type": "code",
   "execution_count": 44,
   "metadata": {},
   "outputs": [
    {
     "name": "stdout",
     "output_type": "stream",
     "text": [
      "Womens specific categories:  ['other' 'Leggings' 'Socks 3-pack' 'Socks 5-pack' 'Crew' 'Shorts' 'Bra'\n",
      " 'Bag' 'Other top' 'T-shirt' 'Sweatpants' 'Crop top' 'Tank']\n",
      "\n",
      "Mens specific categories:  ['T-shirt' 'Tank' 'Shorts' 'Sweatpants' 'Hoodie' 'Underwear' 'Crew']\n"
     ]
    }
   ],
   "source": [
    "print(\"Womens specific categories: \", womens_df['Specific Category'].unique())\n",
    "print(\"\\nMens specific categories: \", mens_df['Specific Category'].unique())"
   ]
  },
  {
   "cell_type": "code",
   "execution_count": 45,
   "metadata": {},
   "outputs": [],
   "source": [
    "# need to add this to the cleaning step \n",
    "womens_df['Price'] = womens_df['Price'].str.replace('$', '')\n",
    "womens_df['Price'] = womens_df['Price'].astype(float)\n",
    "mens_df['Price'] = mens_df['Price'].str.replace('$', '')\n",
    "mens_df['Price'] = mens_df['Price'].astype(float)"
   ]
  },
  {
   "cell_type": "code",
   "execution_count": 48,
   "metadata": {},
   "outputs": [
    {
     "name": "stdout",
     "output_type": "stream",
     "text": [
      "{'Crew', 'Sweatpants', 'T-shirt', 'Tank', 'Shorts'}\n"
     ]
    },
    {
     "name": "stderr",
     "output_type": "stream",
     "text": [
      "/var/folders/f2/btr2krsx7hx6jcjm7m5dn87m0000gn/T/ipykernel_9609/443035012.py:32: FutureWarning: The behavior of DataFrame concatenation with empty or all-NA entries is deprecated. In a future version, this will no longer exclude empty or all-NA columns when determining the result dtypes. To retain the old behavior, exclude the relevant entries before the concat operation.\n",
      "  results_df = pd.concat([results_df, new_data], ignore_index=True)\n"
     ]
    },
    {
     "data": {
      "text/html": [
       "<div>\n",
       "<style scoped>\n",
       "    .dataframe tbody tr th:only-of-type {\n",
       "        vertical-align: middle;\n",
       "    }\n",
       "\n",
       "    .dataframe tbody tr th {\n",
       "        vertical-align: top;\n",
       "    }\n",
       "\n",
       "    .dataframe thead th {\n",
       "        text-align: right;\n",
       "    }\n",
       "</style>\n",
       "<table border=\"1\" class=\"dataframe\">\n",
       "  <thead>\n",
       "    <tr style=\"text-align: right;\">\n",
       "      <th></th>\n",
       "      <th>Specific Category</th>\n",
       "      <th>Womens avg price</th>\n",
       "      <th>Mens avg price</th>\n",
       "      <th>% difference (women vs men)</th>\n",
       "      <th>No. of items (women)</th>\n",
       "      <th>No. of items (men)</th>\n",
       "    </tr>\n",
       "  </thead>\n",
       "  <tbody>\n",
       "    <tr>\n",
       "      <th>0</th>\n",
       "      <td>Crew</td>\n",
       "      <td>42.00</td>\n",
       "      <td>30.00</td>\n",
       "      <td>40.0% more</td>\n",
       "      <td>16</td>\n",
       "      <td>16</td>\n",
       "    </tr>\n",
       "    <tr>\n",
       "      <th>1</th>\n",
       "      <td>Sweatpants</td>\n",
       "      <td>42.67</td>\n",
       "      <td>40.00</td>\n",
       "      <td>6.67% more</td>\n",
       "      <td>48</td>\n",
       "      <td>64</td>\n",
       "    </tr>\n",
       "    <tr>\n",
       "      <th>2</th>\n",
       "      <td>T-shirt</td>\n",
       "      <td>36.80</td>\n",
       "      <td>28.53</td>\n",
       "      <td>29.0% more</td>\n",
       "      <td>80</td>\n",
       "      <td>304</td>\n",
       "    </tr>\n",
       "    <tr>\n",
       "      <th>3</th>\n",
       "      <td>Tank</td>\n",
       "      <td>36.00</td>\n",
       "      <td>24.00</td>\n",
       "      <td>50.0% more</td>\n",
       "      <td>32</td>\n",
       "      <td>96</td>\n",
       "    </tr>\n",
       "    <tr>\n",
       "      <th>4</th>\n",
       "      <td>Shorts</td>\n",
       "      <td>33.98</td>\n",
       "      <td>29.55</td>\n",
       "      <td>15.0% more</td>\n",
       "      <td>176</td>\n",
       "      <td>384</td>\n",
       "    </tr>\n",
       "  </tbody>\n",
       "</table>\n",
       "</div>"
      ],
      "text/plain": [
       "  Specific Category  Womens avg price  Mens avg price  \\\n",
       "0              Crew             42.00           30.00   \n",
       "1        Sweatpants             42.67           40.00   \n",
       "2           T-shirt             36.80           28.53   \n",
       "3              Tank             36.00           24.00   \n",
       "4            Shorts             33.98           29.55   \n",
       "\n",
       "  % difference (women vs men) No. of items (women) No. of items (men)  \n",
       "0                  40.0% more                   16                 16  \n",
       "1                  6.67% more                   48                 64  \n",
       "2                  29.0% more                   80                304  \n",
       "3                  50.0% more                   32                 96  \n",
       "4                  15.0% more                  176                384  "
      ]
     },
     "execution_count": 48,
     "metadata": {},
     "output_type": "execute_result"
    }
   ],
   "source": [
    "overlap_categories = set(womens_df['Specific Category'].unique()) & set(mens_df['Specific Category'].unique())\n",
    "print(overlap_categories)\n",
    "\n",
    "results_df = pd.DataFrame(columns = ['Specific Category', \n",
    "                                     'Womens avg price', \n",
    "                                     'Mens avg price',\n",
    "                                    '% difference (women vs men)', \n",
    "                                    'No. of items (women)', \n",
    "                                    'No. of items (men)'])\n",
    "\n",
    "for category in overlap_categories: \n",
    "    w_item = womens_df[womens_df['Specific Category'] == category]\n",
    "    m_item = mens_df[mens_df['Specific Category'] == category]\n",
    "    w_avg_price = w_item['Price'].mean()\n",
    "    m_avg_price = m_item['Price'].mean()\n",
    "    no_of_items_w = w_item.shape[0]\n",
    "    no_of_items_m = m_item.shape[0]\n",
    "\n",
    "    percent_difference = str((abs(w_avg_price - m_avg_price) / m_avg_price * 100).round(2))\n",
    "    more_or_less = \"more\" if w_avg_price > m_avg_price else \"less\"\n",
    "    \n",
    "    new_data = pd.DataFrame({\n",
    "        'Specific Category': [category],\n",
    "        'Womens avg price': [w_avg_price],\n",
    "        'Mens avg price': [m_avg_price],\n",
    "        '% difference (women vs men)': [f\"{percent_difference}% {more_or_less}\"],\n",
    "        'No. of items (women)': [no_of_items_w],\n",
    "        'No. of items (men)': [no_of_items_m]\n",
    "    })\n",
    "\n",
    "    # Concatenate the new data to results_df\n",
    "    results_df = pd.concat([results_df, new_data], ignore_index=True)\n",
    "\n",
    "results_df['Womens avg price'] = results_df['Womens avg price'].round(2)\n",
    "results_df['Mens avg price'] = results_df['Mens avg price'].round(2)\n",
    "\n",
    "results_df"
   ]
  },
  {
   "cell_type": "code",
   "execution_count": 52,
   "metadata": {},
   "outputs": [
    {
     "data": {
      "image/png": "[encoded data removed]",
      "text/plain": [
       "<Figure size 1000x600 with 1 Axes>"
      ]
     },
     "metadata": {},
     "output_type": "display_data"
    }
   ],
   "source": [
    "import matplotlib.pyplot as plt\n",
    "import numpy as np\n",
    "\n",
    "categories = results_df['Specific Category'].values\n",
    "womens_prices = results_df['Womens avg price'].values\n",
    "mens_prices = results_df['Mens avg price'].values\n",
    "\n",
    "bar_width = 0.35\n",
    "womens_positions = np.arange(len(categories))\n",
    "mens_positions = [x + bar_width for x in womens_positions]\n",
    "\n",
    "plt.figure(figsize=(10, 6))\n",
    "plt.bar(womens_positions, womens_prices, color='pink', width=bar_width, edgecolor='grey', label='Women')\n",
    "plt.bar(mens_positions, mens_prices, color='blue', width=bar_width, edgecolor='grey', label='Men')\n",
    "\n",
    "plt.title('Price Comparison in Women vs Men for Website #1')\n",
    "plt.xlabel('Specific Category')\n",
    "plt.ylabel('Price (USD)')\n",
    "\n",
    "plt.xticks([r + bar_width / 2 for r in range(len(womens_prices))], categories)\n",
    "\n",
    "plt.legend()\n",
    "plt.show()"
   ]
  }
 ],
 "metadata": {
  "kernelspec": {
   "display_name": "Python 3",
   "language": "python",
   "name": "python3"
  },
  "language_info": {
   "codemirror_mode": {
    "name": "ipython",
    "version": 3
   },
   "file_extension": ".py",
   "mimetype": "text/x-python",
   "name": "python",
   "nbconvert_exporter": "python",
   "pygments_lexer": "ipython3",
   "version": "3.9.15"
  }
 },
 "nbformat": 4,
 "nbformat_minor": 2
}
