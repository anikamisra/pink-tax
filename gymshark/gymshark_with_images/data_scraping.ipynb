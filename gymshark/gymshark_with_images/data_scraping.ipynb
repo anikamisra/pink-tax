{
 "cells": [
  {
   "cell_type": "markdown",
   "metadata": {},
   "source": [
    "## Scraping gymshark data with images \n",
    "\n",
    "I don't want to encourage unecessary scraping, and i've already provided the dataframe containing product and image url in \"gymshark_data.csv\".  Please contact me for the scraping code. \n",
    "\n",
    "code available here: https://docs.google.com/document/d/1r1FaL3z8998t3eyXfvlsjQYy4tcQ_ON97MgWX2481FM/edit?tab=t.0"
   ]
  }
 ],
 "metadata": {
  "kernelspec": {
   "display_name": "Python 3",
   "language": "python",
   "name": "python3"
  },
  "language_info": {
   "codemirror_mode": {
    "name": "ipython",
    "version": 3
   },
   "file_extension": ".py",
   "mimetype": "text/x-python",
   "name": "python",
   "nbconvert_exporter": "python",
   "pygments_lexer": "ipython3",
   "version": "3.9.15"
  }
 },
 "nbformat": 4,
 "nbformat_minor": 2
}
