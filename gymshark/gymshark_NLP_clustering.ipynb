{
 "cells": [
  {
   "cell_type": "markdown",
   "metadata": {},
   "source": [
    "### Using NLP methods to create clothing clusters \n",
    "\n",
    "This approach experiments with NLP clustering methods to automatically create cohesive clothing categories for products - so that we don't need a manual analysis. The ultimate goal is to take these clusters and then compare by price across gender. "
   ]
  },
  {
   "cell_type": "code",
   "execution_count": 1,
   "metadata": {},
   "outputs": [
    {
     "name": "stdout",
     "output_type": "stream",
     "text": [
      "Number of womens items:  42 \n",
      "Numer of mens items:  36\n"
     ]
    }
   ],
   "source": [
    "from bertopic import BERTopic\n",
    "import json \n",
    "import pandas as pd\n",
    "\n",
    "path = \"\" # your path here \n",
    "\n",
    "# preprocess just a tad for this task \n",
    "\n",
    "w_df = pd.read_csv(\"womens_df_clean.csv\")\n",
    "w_df = w_df.drop('Specific Category', axis = 1) # these were the manual categories I created, they're not useful here \n",
    "w_df = w_df.drop('General Category', axis = 1) \n",
    "w_df['Price'] = w_df['Price'].str.replace(\"$\", \"\")\n",
    "w_df['Price'] = w_df['Price'].astype(float)\n",
    "w_df = w_df.drop_duplicates()\n",
    "m_df = pd.read_csv(\"mens_df_clean.csv\")\n",
    "m_df = m_df.drop('Specific Category', axis = 1)\n",
    "m_df = m_df.drop('General Category', axis = 1)\n",
    "m_df['Price'] = m_df['Price'].str.replace(\"$\", \"\")\n",
    "m_df['Price'] = m_df['Price'].astype(float)\n",
    "m_df = m_df.drop_duplicates()\n",
    "\n",
    "print(\"Number of womens items: \", w_df.shape[0], \"\\nNumer of mens items: \", m_df.shape[0])"
   ]
  },
  {
   "cell_type": "markdown",
   "metadata": {},
   "source": [
    "Hmmm... very few items. Lol. We lowkey don't even need a topic modeling analysis here. But I just want to see what happens. \n",
    "Also in this case it means there's not a point in using Top2Vec, since Top2Vec only works well with large datasets (over 1000 items). "
   ]
  },
  {
   "cell_type": "code",
   "execution_count": 18,
   "metadata": {},
   "outputs": [
    {
     "name": "stdout",
     "output_type": "stream",
     "text": [
      "All product descriptions among men's and women's data:  78\n",
      "Set of UNIQUE product descriptions among men's and women's data:  76\n"
     ]
    }
   ],
   "source": [
    "descriptions = (w_df['Product'].to_list()) + (m_df['Product'].to_list())\n",
    "print(\"All product descriptions among men's and women's data: \",len(descriptions))\n",
    "descriptions = set(descriptions)\n",
    "descriptions = list(descriptions)\n",
    "print(\"Set of UNIQUE product descriptions among men's and women's data: \", len(descriptions))"
   ]
  },
  {
   "cell_type": "code",
   "execution_count": 19,
   "metadata": {},
   "outputs": [],
   "source": [
    "file_path = f\"{path}gymshark_descriptions.json\"\n",
    "with open(file_path, 'w') as json_file:\n",
    "    json.dump(descriptions, json_file, indent=4)"
   ]
  },
  {
   "cell_type": "markdown",
   "metadata": {},
   "source": [
    "Went into Google Colab to run the next step cuz my IDE has issues with it. This is what I ran: \n",
    "\n",
    "```\n",
    "from bertopic import BERTopic\n",
    "topic_model = BERTopic(embedding_model=\"all-MiniLM-L6-v2\")\n",
    "topics, probs = topic_model.fit_transform(descriptions)\n",
    "info = topic_model.get_topic_info()\n",
    "\n",
    "import pickle\n",
    "with open('topics.pkl', 'wb') as f:\n",
    "    pickle.dump(topics, f)\n",
    "with open('probs.pkl', 'wb') as f: \n",
    "  pickle.dump(probs, f)\n",
    "with open('info.pkl', 'wb') as f:\n",
    "  pickle.dump(info, f)\n",
    "\n",
    "```"
   ]
  },
  {
   "cell_type": "code",
   "execution_count": 23,
   "metadata": {},
   "outputs": [],
   "source": [
    "# now we load everything up again \n",
    "import pickle\n",
    "with open('topics.pkl', 'rb') as f:\n",
    "    topics = pickle.load(f)\n",
    "\n",
    "with open('probs.pkl', 'rb') as f:\n",
    "    probs = pickle.load(f)\n",
    "\n",
    "with open('info.pkl', 'rb') as f: \n",
    "    info = pickle.load(f)\n",
    "\n",
    "print(len(list(set(topics))))"
   ]
  },
  {
   "cell_type": "markdown",
   "metadata": {},
   "source": [
    "BERTopic went from 76 product descriptions to 3?? 3 almost feels like too FEW now! well, let's see what they are then. "
   ]
  },
  {
   "cell_type": "code",
   "execution_count": 25,
   "metadata": {},
   "outputs": [
    {
     "name": "stdout",
     "output_type": "stream",
     "text": [
      "Some items representative of the cluster named  1_shirt_oversized_graphic_joggers are: \n",
      "         Arrival T-Shirt\n",
      "         Essential Oversized T-Shirt\n",
      "         Arrival T-Shirt T-Shirt\n",
      "\n",
      " Some items representative of the cluster named  -1_bra_sports_ruched_react are: \n",
      "         Ruched Sports Bra\n",
      "         Everyday Seamless Sports Bra\n",
      "         Everyday Sports Bra\n",
      "\n",
      " Some items representative of the cluster named  0_shorts_seamless_leggings_everyday are: \n",
      "         Vital Seamless Shorts\n",
      "         Vital Seamless 2.0 Shorts\n",
      "         Everyday Seamless Shorts\n"
     ]
    }
   ],
   "source": [
    "print(\"Some items representative of the cluster named \", info.iloc[-1]['Name'], \"are: \")\n",
    "for item in info.iloc[-1]['Representative_Docs']: \n",
    "    print(\"        \", item)\n",
    "\n",
    "print(\"\\n Some items representative of the cluster named \", info.iloc[0]['Name'], \"are: \")\n",
    "for item in info.iloc[0]['Representative_Docs']: \n",
    "    print(\"        \", item)\n",
    "\n",
    "print(\"\\n Some items representative of the cluster named \", info.iloc[1]['Name'], \"are: \")\n",
    "for item in info.iloc[1]['Representative_Docs']: \n",
    "    print(\"        \", item)"
   ]
  },
  {
   "cell_type": "code",
   "execution_count": 26,
   "metadata": {},
   "outputs": [
    {
     "data": {
      "text/html": [
       "<div>\n",
       "<style scoped>\n",
       "    .dataframe tbody tr th:only-of-type {\n",
       "        vertical-align: middle;\n",
       "    }\n",
       "\n",
       "    .dataframe tbody tr th {\n",
       "        vertical-align: top;\n",
       "    }\n",
       "\n",
       "    .dataframe thead th {\n",
       "        text-align: right;\n",
       "    }\n",
       "</style>\n",
       "<table border=\"1\" class=\"dataframe\">\n",
       "  <thead>\n",
       "    <tr style=\"text-align: right;\">\n",
       "      <th></th>\n",
       "      <th>Topic</th>\n",
       "      <th>Count</th>\n",
       "      <th>Name</th>\n",
       "      <th>Representation</th>\n",
       "      <th>Representative_Docs</th>\n",
       "    </tr>\n",
       "  </thead>\n",
       "  <tbody>\n",
       "    <tr>\n",
       "      <th>0</th>\n",
       "      <td>-1</td>\n",
       "      <td>10</td>\n",
       "      <td>-1_bra_sports_ruched_react</td>\n",
       "      <td>[bra, sports, ruched, react, everyday, strappy...</td>\n",
       "      <td>[Ruched Sports Bra, Everyday Seamless Sports B...</td>\n",
       "    </tr>\n",
       "    <tr>\n",
       "      <th>1</th>\n",
       "      <td>0</td>\n",
       "      <td>34</td>\n",
       "      <td>0_shorts_seamless_leggings_everyday</td>\n",
       "      <td>[shorts, seamless, leggings, everyday, vital, ...</td>\n",
       "      <td>[Vital Seamless Shorts, Vital Seamless 2.0 Sho...</td>\n",
       "    </tr>\n",
       "    <tr>\n",
       "      <th>2</th>\n",
       "      <td>1</td>\n",
       "      <td>32</td>\n",
       "      <td>1_shirt_oversized_graphic_joggers</td>\n",
       "      <td>[shirt, oversized, graphic, joggers, arrival, ...</td>\n",
       "      <td>[Arrival T-Shirt, Essential Oversized T-Shirt,...</td>\n",
       "    </tr>\n",
       "  </tbody>\n",
       "</table>\n",
       "</div>"
      ],
      "text/plain": [
       "   Topic  Count                                 Name  \\\n",
       "0     -1     10           -1_bra_sports_ruched_react   \n",
       "1      0     34  0_shorts_seamless_leggings_everyday   \n",
       "2      1     32    1_shirt_oversized_graphic_joggers   \n",
       "\n",
       "                                      Representation  \\\n",
       "0  [bra, sports, ruched, react, everyday, strappy...   \n",
       "1  [shorts, seamless, leggings, everyday, vital, ...   \n",
       "2  [shirt, oversized, graphic, joggers, arrival, ...   \n",
       "\n",
       "                                 Representative_Docs  \n",
       "0  [Ruched Sports Bra, Everyday Seamless Sports B...  \n",
       "1  [Vital Seamless Shorts, Vital Seamless 2.0 Sho...  \n",
       "2  [Arrival T-Shirt, Essential Oversized T-Shirt,...  "
      ]
     },
     "execution_count": 26,
     "metadata": {},
     "output_type": "execute_result"
    }
   ],
   "source": [
    "info.head()"
   ]
  },
  {
   "cell_type": "code",
   "execution_count": 27,
   "metadata": {},
   "outputs": [
    {
     "data": {
      "text/html": [
       "<div>\n",
       "<style scoped>\n",
       "    .dataframe tbody tr th:only-of-type {\n",
       "        vertical-align: middle;\n",
       "    }\n",
       "\n",
       "    .dataframe tbody tr th {\n",
       "        vertical-align: top;\n",
       "    }\n",
       "\n",
       "    .dataframe thead th {\n",
       "        text-align: right;\n",
       "    }\n",
       "</style>\n",
       "<table border=\"1\" class=\"dataframe\">\n",
       "  <thead>\n",
       "    <tr style=\"text-align: right;\">\n",
       "      <th></th>\n",
       "      <th>topic</th>\n",
       "      <th>document</th>\n",
       "    </tr>\n",
       "  </thead>\n",
       "  <tbody>\n",
       "    <tr>\n",
       "      <th>0</th>\n",
       "      <td>0</td>\n",
       "      <td>Sport Shorts</td>\n",
       "    </tr>\n",
       "    <tr>\n",
       "      <th>1</th>\n",
       "      <td>1</td>\n",
       "      <td>Strong Girl Lifting Club Oversized Graphic Crew</td>\n",
       "    </tr>\n",
       "    <tr>\n",
       "      <th>2</th>\n",
       "      <td>1</td>\n",
       "      <td>Pump Cover T-Shirt</td>\n",
       "    </tr>\n",
       "    <tr>\n",
       "      <th>3</th>\n",
       "      <td>0</td>\n",
       "      <td>Sport 5\" Shorts</td>\n",
       "    </tr>\n",
       "    <tr>\n",
       "      <th>4</th>\n",
       "      <td>-1</td>\n",
       "      <td>Peek A Boo Sports Bra</td>\n",
       "    </tr>\n",
       "  </tbody>\n",
       "</table>\n",
       "</div>"
      ],
      "text/plain": [
       "   topic                                         document\n",
       "0      0                                     Sport Shorts\n",
       "1      1  Strong Girl Lifting Club Oversized Graphic Crew\n",
       "2      1                               Pump Cover T-Shirt\n",
       "3      0                                  Sport 5\" Shorts\n",
       "4     -1                            Peek A Boo Sports Bra"
      ]
     },
     "execution_count": 27,
     "metadata": {},
     "output_type": "execute_result"
    }
   ],
   "source": [
    "df = pd.DataFrame({\"topic\": topics, \"document\": descriptions})\n",
    "df.head()"
   ]
  },
  {
   "cell_type": "code",
   "execution_count": 30,
   "metadata": {},
   "outputs": [
    {
     "data": {
      "text/html": [
       "<div>\n",
       "<style scoped>\n",
       "    .dataframe tbody tr th:only-of-type {\n",
       "        vertical-align: middle;\n",
       "    }\n",
       "\n",
       "    .dataframe tbody tr th {\n",
       "        vertical-align: top;\n",
       "    }\n",
       "\n",
       "    .dataframe thead th {\n",
       "        text-align: right;\n",
       "    }\n",
       "</style>\n",
       "<table border=\"1\" class=\"dataframe\">\n",
       "  <thead>\n",
       "    <tr style=\"text-align: right;\">\n",
       "      <th></th>\n",
       "      <th>topic</th>\n",
       "      <th>womens average price</th>\n",
       "      <th>mens average price</th>\n",
       "    </tr>\n",
       "  </thead>\n",
       "  <tbody>\n",
       "    <tr>\n",
       "      <th>0</th>\n",
       "      <td>0</td>\n",
       "      <td>37.481818</td>\n",
       "      <td>31.883333</td>\n",
       "    </tr>\n",
       "    <tr>\n",
       "      <th>1</th>\n",
       "      <td>1</td>\n",
       "      <td>37.166667</td>\n",
       "      <td>33.110000</td>\n",
       "    </tr>\n",
       "    <tr>\n",
       "      <th>2</th>\n",
       "      <td>-1</td>\n",
       "      <td>36.000000</td>\n",
       "      <td>24.000000</td>\n",
       "    </tr>\n",
       "  </tbody>\n",
       "</table>\n",
       "</div>"
      ],
      "text/plain": [
       "   topic  womens average price  mens average price\n",
       "0      0             37.481818           31.883333\n",
       "1      1             37.166667           33.110000\n",
       "2     -1             36.000000           24.000000"
      ]
     },
     "execution_count": 30,
     "metadata": {},
     "output_type": "execute_result"
    }
   ],
   "source": [
    "mens_df = m_df\n",
    "womens_df = w_df\n",
    "results_list = []\n",
    "\n",
    "for topic in df['topic'].unique():\n",
    "    topic_docs = df[df['topic'] == topic]['document']\n",
    "    womens_prices = []\n",
    "    mens_prices = []\n",
    "    for doc in topic_docs:\n",
    "        if doc in w_df['Product'].values:\n",
    "            womens_price = w_df[w_df['Product'] == doc]['Price'].values[0]\n",
    "            womens_prices.append(womens_price)\n",
    "        if doc in mens_df['Product'].values:\n",
    "            mens_price = m_df[m_df['Product'] == doc]['Price'].values[0]\n",
    "            mens_prices.append(mens_price)\n",
    "    if womens_prices: \n",
    "        womens_avg = sum(womens_prices) / len(womens_prices)\n",
    "    else: \n",
    "        womens_avg = None\n",
    "    if mens_prices: \n",
    "        mens_avg = sum(mens_prices) / len(mens_prices) \n",
    "    else: \n",
    "        mens_avg = None \n",
    "    results_list.append({\n",
    "        \"topic\": topic,\n",
    "        \"womens average price\": womens_avg,\n",
    "        \"mens average price\": mens_avg\n",
    "    })\n",
    "# convert back to df \n",
    "results_df = pd.DataFrame(results_list)\n",
    "\n",
    "results_df.head()"
   ]
  },
  {
   "cell_type": "markdown",
   "metadata": {},
   "source": [
    "Okay. So the BERTopic does accurately show that womens clothing is priced higher than mens clothing in the two categories that  it found. This is better than both RFR and Lasso, which found that there was no effect. \n",
    "\n",
    "Regardless, I think 2 categories is still far too few. Furthermore, the overall average price of womens items is higher anyway, so I feel like this result wasn't that hard to come to. \n",
    "\n",
    "Let's experiment with a different method. "
   ]
  }
 ],
 "metadata": {
  "kernelspec": {
   "display_name": "Python 3",
   "language": "python",
   "name": "python3"
  },
  "language_info": {
   "codemirror_mode": {
    "name": "ipython",
    "version": 3
   },
   "file_extension": ".py",
   "mimetype": "text/x-python",
   "name": "python",
   "nbconvert_exporter": "python",
   "pygments_lexer": "ipython3",
   "version": "3.9.15"
  }
 },
 "nbformat": 4,
 "nbformat_minor": 2
}
