{
 "cells": [
  {
   "cell_type": "markdown",
   "metadata": {},
   "source": [
    "Gymshark does not have a way to obtain all the clothing into one page and then download an html, so I will be scraping the pages (just one time), saving the data to my local machine, and then working from there. \n",
    "\n",
    "This is what the page format looks like:\n",
    "First page: https://www.gymshark.com/collections/all-products/womens\n",
    "All other pages: "
   ]
  }
 ],
 "metadata": {
  "language_info": {
   "name": "python"
  }
 },
 "nbformat": 4,
 "nbformat_minor": 2
}
