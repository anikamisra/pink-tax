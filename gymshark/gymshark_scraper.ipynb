{
 "cells": [
  {
   "cell_type": "markdown",
   "metadata": {},
   "source": [
    "# Scraping website data\n",
    "\n",
    "I do not want to encourage others to do unecessary scraping, since I have already provided the scraped data itself in the files \"w_df_scraped_jul_14.csv\" and \"m_df_scraped_jul_14.csv\" for you to analyze already. If you would like to see the exact code I used to obtain this data please contact me. \n",
    "\n",
    "code available here: https://docs.google.com/document/d/1xsjGahQJIVDPAk7ZjrvZClMOokzUA3YFq4hxZeg85Bk/edit?tab=t.0"
   ]
  }
 ],
 "metadata": {
  "kernelspec": {
   "display_name": "Python 3",
   "language": "python",
   "name": "python3"
  },
  "language_info": {
   "codemirror_mode": {
    "name": "ipython",
    "version": 3
   },
   "file_extension": ".py",
   "mimetype": "text/x-python",
   "name": "python",
   "nbconvert_exporter": "python",
   "pygments_lexer": "ipython3",
   "version": "3.9.15"
  }
 },
 "nbformat": 4,
 "nbformat_minor": 2
}
