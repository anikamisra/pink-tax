{
 "cells": [
  {
   "cell_type": "code",
   "execution_count": 2,
   "metadata": {},
   "outputs": [
    {
     "name": "stderr",
     "output_type": "stream",
     "text": [
      "/Users/anikamisra/miniconda3/envs/16A/lib/python3.9/site-packages/pandas/core/arrays/masked.py:60: UserWarning: Pandas requires version '1.3.6' or newer of 'bottleneck' (version '1.3.5' currently installed).\n",
      "  from pandas.core import (\n"
     ]
    }
   ],
   "source": [
    "import pandas as pd\n",
    "from bs4 import BeautifulSoup"
   ]
  },
  {
   "cell_type": "markdown",
   "metadata": {},
   "source": [
    "## \"Scraping\" html data \n",
    "\n",
    "### Ethical disclaimer: \n",
    "No bots were used when obtaining this data, aka, no actual \"web scraping\" was done. I manually scrolled to the bottom of the web page, inspected the entire page, and copied and pasted the html text onto a local file on my computer. All \"scraping\" was performed on this local file in order to avoid overloading the server. I encourage others to do the same. \n",
    "\n",
    "\n",
    "**Date scraped**: This website data was scraped on 7/28/2024 for both mens and womens, from 8-9pm EST.  \n",
    "\n",
    "## Womens products"
   ]
  },
  {
   "cell_type": "code",
   "execution_count": 3,
   "metadata": {},
   "outputs": [
    {
     "data": {
      "text/html": [
       "<div>\n",
       "<style scoped>\n",
       "    .dataframe tbody tr th:only-of-type {\n",
       "        vertical-align: middle;\n",
       "    }\n",
       "\n",
       "    .dataframe tbody tr th {\n",
       "        vertical-align: top;\n",
       "    }\n",
       "\n",
       "    .dataframe thead th {\n",
       "        text-align: right;\n",
       "    }\n",
       "</style>\n",
       "<table border=\"1\" class=\"dataframe\">\n",
       "  <thead>\n",
       "    <tr style=\"text-align: right;\">\n",
       "      <th></th>\n",
       "      <th>Product Title</th>\n",
       "      <th>Product Subtitle</th>\n",
       "      <th>Price</th>\n",
       "    </tr>\n",
       "  </thead>\n",
       "  <tbody>\n",
       "    <tr>\n",
       "      <th>1</th>\n",
       "      <td>Nike Pro</td>\n",
       "      <td>Women's Dri-FIT Cropped Tank Top</td>\n",
       "      <td>$40</td>\n",
       "    </tr>\n",
       "    <tr>\n",
       "      <th>2</th>\n",
       "      <td>Nike Pro Sculpt</td>\n",
       "      <td>Women's High-Waisted 3\" Biker Shorts</td>\n",
       "      <td>$38</td>\n",
       "    </tr>\n",
       "    <tr>\n",
       "      <th>3</th>\n",
       "      <td>Nike Sportswear Phoenix Fleece</td>\n",
       "      <td>Women's Over-Oversized Pullover Hoodie</td>\n",
       "      <td>$75</td>\n",
       "    </tr>\n",
       "    <tr>\n",
       "      <th>4</th>\n",
       "      <td>Nike Sportswear Phoenix Fleece</td>\n",
       "      <td>Women's High-Waisted Oversized Sweatpants</td>\n",
       "      <td>$70</td>\n",
       "    </tr>\n",
       "    <tr>\n",
       "      <th>5</th>\n",
       "      <td>Nike Sportswear Women's Artist Collection</td>\n",
       "      <td>Bomber Jacket</td>\n",
       "      <td>$160</td>\n",
       "    </tr>\n",
       "  </tbody>\n",
       "</table>\n",
       "</div>"
      ],
      "text/plain": [
       "                               Product Title  \\\n",
       "1                                   Nike Pro   \n",
       "2                            Nike Pro Sculpt   \n",
       "3             Nike Sportswear Phoenix Fleece   \n",
       "4             Nike Sportswear Phoenix Fleece   \n",
       "5  Nike Sportswear Women's Artist Collection   \n",
       "\n",
       "                            Product Subtitle Price  \n",
       "1           Women's Dri-FIT Cropped Tank Top   $40  \n",
       "2       Women's High-Waisted 3\" Biker Shorts   $38  \n",
       "3     Women's Over-Oversized Pullover Hoodie   $75  \n",
       "4  Women's High-Waisted Oversized Sweatpants   $70  \n",
       "5                              Bomber Jacket  $160  "
      ]
     },
     "execution_count": 3,
     "metadata": {},
     "output_type": "execute_result"
    }
   ],
   "source": [
    "# open local html / txt file \n",
    "with open('/Users/anikamisra/Desktop/personal-projects/pink-tax/nike/nike_products_womens.html', 'r') as html_file:\n",
    "    content = html_file.read()\n",
    "\n",
    "# create BeautifulSoup object \n",
    "soup = BeautifulSoup(content, 'html.parser')\n",
    "\n",
    "# find all appropriate info \n",
    "product_cards = soup.find_all('div', {'class': 'product-card__body'})\n",
    "w_df = pd.DataFrame(columns=['Product Title', 'Product Subtitle', 'Price'])\n",
    "i = 1\n",
    "for card in product_cards:\n",
    "    title_tag = card.find('div', {'class': 'product-card__title'})\n",
    "    subtitle_tag = card.find('div', {'class': 'product-card__subtitle'})\n",
    "    price_tag = card.find('div', {'class': 'product-price'})\n",
    "\n",
    "    if subtitle_tag is not None and price_tag is not None and title_tag is not None:\n",
    "        title = title_tag.get_text()\n",
    "        subtitle = subtitle_tag.get_text()\n",
    "        price = price_tag.get_text()\n",
    "        # print(f'Product: {subtitle}, Price: {price}')\n",
    "        w_df.loc[i] = [title, subtitle, price]\n",
    "        i += 1\n",
    "\n",
    "#w_df.shape\n",
    "w_df.head()"
   ]
  },
  {
   "cell_type": "markdown",
   "metadata": {},
   "source": [
    "Looks great! Now let's move on to the men's products. \n",
    "\n",
    "## Men's products "
   ]
  },
  {
   "cell_type": "code",
   "execution_count": 4,
   "metadata": {},
   "outputs": [
    {
     "data": {
      "text/html": [
       "<div>\n",
       "<style scoped>\n",
       "    .dataframe tbody tr th:only-of-type {\n",
       "        vertical-align: middle;\n",
       "    }\n",
       "\n",
       "    .dataframe tbody tr th {\n",
       "        vertical-align: top;\n",
       "    }\n",
       "\n",
       "    .dataframe thead th {\n",
       "        text-align: right;\n",
       "    }\n",
       "</style>\n",
       "<table border=\"1\" class=\"dataframe\">\n",
       "  <thead>\n",
       "    <tr style=\"text-align: right;\">\n",
       "      <th></th>\n",
       "      <th>Product Title</th>\n",
       "      <th>Product Subtitle</th>\n",
       "      <th>Price</th>\n",
       "    </tr>\n",
       "  </thead>\n",
       "  <tbody>\n",
       "    <tr>\n",
       "      <th>1</th>\n",
       "      <td>Nike Club</td>\n",
       "      <td>Men's Woven Flow Shorts</td>\n",
       "      <td>$50</td>\n",
       "    </tr>\n",
       "    <tr>\n",
       "      <th>2</th>\n",
       "      <td>Nike Sportswear Club Fleece</td>\n",
       "      <td>Men's Graphic Crew</td>\n",
       "      <td>$65</td>\n",
       "    </tr>\n",
       "    <tr>\n",
       "      <th>3</th>\n",
       "      <td>Nike Sportswear Club</td>\n",
       "      <td>Men's Graphic Shorts</td>\n",
       "      <td>$30.97</td>\n",
       "    </tr>\n",
       "    <tr>\n",
       "      <th>4</th>\n",
       "      <td>Nike Sportswear</td>\n",
       "      <td>Men's T-Shirt</td>\n",
       "      <td>$35</td>\n",
       "    </tr>\n",
       "    <tr>\n",
       "      <th>5</th>\n",
       "      <td>Nike Club</td>\n",
       "      <td>Men's Chino Shorts</td>\n",
       "      <td>$70</td>\n",
       "    </tr>\n",
       "  </tbody>\n",
       "</table>\n",
       "</div>"
      ],
      "text/plain": [
       "                 Product Title         Product Subtitle   Price\n",
       "1                    Nike Club  Men's Woven Flow Shorts     $50\n",
       "2  Nike Sportswear Club Fleece       Men's Graphic Crew     $65\n",
       "3         Nike Sportswear Club     Men's Graphic Shorts  $30.97\n",
       "4              Nike Sportswear            Men's T-Shirt     $35\n",
       "5                    Nike Club       Men's Chino Shorts     $70"
      ]
     },
     "execution_count": 4,
     "metadata": {},
     "output_type": "execute_result"
    }
   ],
   "source": [
    "# repeat process for mens info \n",
    "with open('/Users/anikamisra/Desktop/personal-projects/pink-tax/nike/nike_products_mens.html', 'r') as html_file:\n",
    "    content = html_file.read()\n",
    "\n",
    "soup = BeautifulSoup(content, 'html.parser')\n",
    "product_cards = soup.find_all('div', {'class': 'product-card__body'})\n",
    "m_df = pd.DataFrame(columns=['Product Title', 'Product Subtitle', 'Price'])\n",
    "i = 1\n",
    "for card in product_cards:\n",
    "    title_tag = card.find('div', {'class': 'product-card__title'})\n",
    "    subtitle_tag = card.find('div', {'class': 'product-card__subtitle'})\n",
    "    price_tag = card.find('div', {'class': 'product-price'})\n",
    "\n",
    "    if subtitle_tag is not None and price_tag is not None and title_tag is not None:\n",
    "        title = title_tag.get_text()\n",
    "        subtitle = subtitle_tag.get_text()\n",
    "        price = price_tag.get_text()\n",
    "        # print(f'Product: {subtitle}, Price: {price}')\n",
    "        m_df.loc[i] = [title, subtitle, price]\n",
    "        i += 1\n",
    "\n",
    "#w_df.shape\n",
    "m_df.head()"
   ]
  },
  {
   "cell_type": "markdown",
   "metadata": {},
   "source": [
    "How much was scraped? "
   ]
  },
  {
   "cell_type": "code",
   "execution_count": 5,
   "metadata": {},
   "outputs": [
    {
     "name": "stdout",
     "output_type": "stream",
     "text": [
      "No. of womens products: 3054\n",
      "No. of mens products: 7782\n"
     ]
    }
   ],
   "source": [
    "print(\"No. of womens products:\", w_df.shape[0])\n",
    "print(\"No. of mens products:\", m_df.shape[0])"
   ]
  },
  {
   "cell_type": "markdown",
   "metadata": {},
   "source": [
    "This is consistent with the website. Let's download the data. "
   ]
  },
  {
   "cell_type": "code",
   "execution_count": 6,
   "metadata": {},
   "outputs": [],
   "source": [
    "w_df.to_csv(\"womens_nike_data.csv\", index=False)\n",
    "m_df.to_csv(\"mens_nike_data.csv\", index=False)"
   ]
  },
  {
   "cell_type": "code",
   "execution_count": 1,
   "metadata": {},
   "outputs": [
    {
     "data": {
      "text/html": [
       "<div>\n",
       "<style scoped>\n",
       "    .dataframe tbody tr th:only-of-type {\n",
       "        vertical-align: middle;\n",
       "    }\n",
       "\n",
       "    .dataframe tbody tr th {\n",
       "        vertical-align: top;\n",
       "    }\n",
       "\n",
       "    .dataframe thead th {\n",
       "        text-align: right;\n",
       "    }\n",
       "</style>\n",
       "<table border=\"1\" class=\"dataframe\">\n",
       "  <thead>\n",
       "    <tr style=\"text-align: right;\">\n",
       "      <th></th>\n",
       "      <th>Product Title</th>\n",
       "      <th>Product Subtitle</th>\n",
       "      <th>Price</th>\n",
       "    </tr>\n",
       "  </thead>\n",
       "  <tbody>\n",
       "    <tr>\n",
       "      <th>0</th>\n",
       "      <td>Nike Club</td>\n",
       "      <td>Men's Woven Flow Shorts</td>\n",
       "      <td>$50</td>\n",
       "    </tr>\n",
       "    <tr>\n",
       "      <th>1</th>\n",
       "      <td>Nike Sportswear Club Fleece</td>\n",
       "      <td>Men's Graphic Crew</td>\n",
       "      <td>$65</td>\n",
       "    </tr>\n",
       "    <tr>\n",
       "      <th>2</th>\n",
       "      <td>Nike Sportswear Club</td>\n",
       "      <td>Men's Graphic Shorts</td>\n",
       "      <td>$30.97</td>\n",
       "    </tr>\n",
       "    <tr>\n",
       "      <th>3</th>\n",
       "      <td>Nike Sportswear</td>\n",
       "      <td>Men's T-Shirt</td>\n",
       "      <td>$35</td>\n",
       "    </tr>\n",
       "    <tr>\n",
       "      <th>4</th>\n",
       "      <td>Nike Club</td>\n",
       "      <td>Men's Chino Shorts</td>\n",
       "      <td>$70</td>\n",
       "    </tr>\n",
       "  </tbody>\n",
       "</table>\n",
       "</div>"
      ],
      "text/plain": [
       "                 Product Title         Product Subtitle   Price\n",
       "0                    Nike Club  Men's Woven Flow Shorts     $50\n",
       "1  Nike Sportswear Club Fleece       Men's Graphic Crew     $65\n",
       "2         Nike Sportswear Club     Men's Graphic Shorts  $30.97\n",
       "3              Nike Sportswear            Men's T-Shirt     $35\n",
       "4                    Nike Club       Men's Chino Shorts     $70"
      ]
     },
     "execution_count": 1,
     "metadata": {},
     "output_type": "execute_result"
    }
   ],
   "source": [
    "import pandas as pd\n",
    "m_df = pd.read_csv(\"mens_nike_data.csv\")\n",
    "\n",
    "m_df.head()"
   ]
  }
 ],
 "metadata": {
  "kernelspec": {
   "display_name": "Python 3",
   "language": "python",
   "name": "python3"
  },
  "language_info": {
   "codemirror_mode": {
    "name": "ipython",
    "version": 3
   },
   "file_extension": ".py",
   "mimetype": "text/x-python",
   "name": "python",
   "nbconvert_exporter": "python",
   "pygments_lexer": "ipython3",
   "version": "3.9.15"
  }
 },
 "nbformat": 4,
 "nbformat_minor": 2
}
