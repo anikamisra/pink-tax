{
 "cells": [
  {
   "cell_type": "code",
   "execution_count": 13,
   "metadata": {},
   "outputs": [
    {
     "data": {
      "text/html": [
       "<div>\n",
       "<style scoped>\n",
       "    .dataframe tbody tr th:only-of-type {\n",
       "        vertical-align: middle;\n",
       "    }\n",
       "\n",
       "    .dataframe tbody tr th {\n",
       "        vertical-align: top;\n",
       "    }\n",
       "\n",
       "    .dataframe thead th {\n",
       "        text-align: right;\n",
       "    }\n",
       "</style>\n",
       "<table border=\"1\" class=\"dataframe\">\n",
       "  <thead>\n",
       "    <tr style=\"text-align: right;\">\n",
       "      <th></th>\n",
       "      <th>tee</th>\n",
       "      <th>oxford</th>\n",
       "      <th>bomber</th>\n",
       "      <th>ncaa</th>\n",
       "      <th>vest</th>\n",
       "      <th>3-in-1</th>\n",
       "      <th>collared</th>\n",
       "      <th>packable</th>\n",
       "      <th>seersucker</th>\n",
       "      <th>playoff</th>\n",
       "      <th>...</th>\n",
       "      <th>sheer</th>\n",
       "      <th>7/8-length</th>\n",
       "      <th>shirt</th>\n",
       "      <th>flouncy</th>\n",
       "      <th>v-neck</th>\n",
       "      <th>color-blocked</th>\n",
       "      <th>pants</th>\n",
       "      <th>cheeky</th>\n",
       "      <th>yoga</th>\n",
       "      <th>Price</th>\n",
       "    </tr>\n",
       "  </thead>\n",
       "  <tbody>\n",
       "    <tr>\n",
       "      <th>0</th>\n",
       "      <td>0</td>\n",
       "      <td>0</td>\n",
       "      <td>0</td>\n",
       "      <td>0</td>\n",
       "      <td>0</td>\n",
       "      <td>0</td>\n",
       "      <td>0</td>\n",
       "      <td>0</td>\n",
       "      <td>0</td>\n",
       "      <td>0</td>\n",
       "      <td>...</td>\n",
       "      <td>0</td>\n",
       "      <td>0</td>\n",
       "      <td>0</td>\n",
       "      <td>0</td>\n",
       "      <td>0</td>\n",
       "      <td>0</td>\n",
       "      <td>0</td>\n",
       "      <td>0</td>\n",
       "      <td>0</td>\n",
       "      <td>40.0</td>\n",
       "    </tr>\n",
       "    <tr>\n",
       "      <th>1</th>\n",
       "      <td>0</td>\n",
       "      <td>0</td>\n",
       "      <td>0</td>\n",
       "      <td>0</td>\n",
       "      <td>0</td>\n",
       "      <td>0</td>\n",
       "      <td>0</td>\n",
       "      <td>0</td>\n",
       "      <td>0</td>\n",
       "      <td>0</td>\n",
       "      <td>...</td>\n",
       "      <td>0</td>\n",
       "      <td>0</td>\n",
       "      <td>0</td>\n",
       "      <td>0</td>\n",
       "      <td>0</td>\n",
       "      <td>0</td>\n",
       "      <td>0</td>\n",
       "      <td>0</td>\n",
       "      <td>0</td>\n",
       "      <td>38.0</td>\n",
       "    </tr>\n",
       "    <tr>\n",
       "      <th>2</th>\n",
       "      <td>0</td>\n",
       "      <td>0</td>\n",
       "      <td>0</td>\n",
       "      <td>0</td>\n",
       "      <td>0</td>\n",
       "      <td>0</td>\n",
       "      <td>0</td>\n",
       "      <td>0</td>\n",
       "      <td>0</td>\n",
       "      <td>0</td>\n",
       "      <td>...</td>\n",
       "      <td>0</td>\n",
       "      <td>0</td>\n",
       "      <td>0</td>\n",
       "      <td>0</td>\n",
       "      <td>0</td>\n",
       "      <td>0</td>\n",
       "      <td>0</td>\n",
       "      <td>0</td>\n",
       "      <td>0</td>\n",
       "      <td>75.0</td>\n",
       "    </tr>\n",
       "    <tr>\n",
       "      <th>3</th>\n",
       "      <td>0</td>\n",
       "      <td>0</td>\n",
       "      <td>0</td>\n",
       "      <td>0</td>\n",
       "      <td>0</td>\n",
       "      <td>0</td>\n",
       "      <td>0</td>\n",
       "      <td>0</td>\n",
       "      <td>0</td>\n",
       "      <td>0</td>\n",
       "      <td>...</td>\n",
       "      <td>0</td>\n",
       "      <td>0</td>\n",
       "      <td>0</td>\n",
       "      <td>0</td>\n",
       "      <td>0</td>\n",
       "      <td>0</td>\n",
       "      <td>0</td>\n",
       "      <td>0</td>\n",
       "      <td>0</td>\n",
       "      <td>70.0</td>\n",
       "    </tr>\n",
       "    <tr>\n",
       "      <th>4</th>\n",
       "      <td>0</td>\n",
       "      <td>0</td>\n",
       "      <td>1</td>\n",
       "      <td>0</td>\n",
       "      <td>0</td>\n",
       "      <td>0</td>\n",
       "      <td>0</td>\n",
       "      <td>0</td>\n",
       "      <td>0</td>\n",
       "      <td>0</td>\n",
       "      <td>...</td>\n",
       "      <td>0</td>\n",
       "      <td>0</td>\n",
       "      <td>0</td>\n",
       "      <td>0</td>\n",
       "      <td>0</td>\n",
       "      <td>0</td>\n",
       "      <td>0</td>\n",
       "      <td>0</td>\n",
       "      <td>0</td>\n",
       "      <td>160.0</td>\n",
       "    </tr>\n",
       "  </tbody>\n",
       "</table>\n",
       "<p>5 rows × 469 columns</p>\n",
       "</div>"
      ],
      "text/plain": [
       "   tee  oxford  bomber  ncaa  vest  3-in-1  collared  packable  seersucker  \\\n",
       "0    0       0       0     0     0       0         0         0           0   \n",
       "1    0       0       0     0     0       0         0         0           0   \n",
       "2    0       0       0     0     0       0         0         0           0   \n",
       "3    0       0       0     0     0       0         0         0           0   \n",
       "4    0       0       1     0     0       0         0         0           0   \n",
       "\n",
       "   playoff  ...  sheer  7/8-length  shirt  flouncy  v-neck  color-blocked  \\\n",
       "0        0  ...      0           0      0        0       0              0   \n",
       "1        0  ...      0           0      0        0       0              0   \n",
       "2        0  ...      0           0      0        0       0              0   \n",
       "3        0  ...      0           0      0        0       0              0   \n",
       "4        0  ...      0           0      0        0       0              0   \n",
       "\n",
       "   pants  cheeky  yoga  Price  \n",
       "0      0       0     0   40.0  \n",
       "1      0       0     0   38.0  \n",
       "2      0       0     0   75.0  \n",
       "3      0       0     0   70.0  \n",
       "4      0       0     0  160.0  \n",
       "\n",
       "[5 rows x 469 columns]"
      ]
     },
     "execution_count": 13,
     "metadata": {},
     "output_type": "execute_result"
    }
   ],
   "source": [
    "# make the dataset again \n",
    "\n",
    "import pandas as pd\n",
    "\n",
    "df = pd.read_csv(\"all_data_2.csv\")\n",
    "df = df.drop(columns=[\"Unnamed: 0\"])\n",
    "df['Price'] = df['Price'].str.replace('$', '', regex=False).str.replace(',', '').astype(float)\n",
    "df.head()"
   ]
  },
  {
   "cell_type": "code",
   "execution_count": 14,
   "metadata": {},
   "outputs": [],
   "source": [
    "# read in data\n",
    "x_train = pd.read_csv(\"x_train.csv\")\n",
    "x_test = pd.read_csv(\"x_test.csv\")\n",
    "y_train = pd.read_csv(\"y_train.csv\")\n",
    "y_test = pd.read_csv(\"y_test.csv\")\n",
    "\n",
    "# we want the same datasets that were used in the lasso model "
   ]
  },
  {
   "cell_type": "code",
   "execution_count": 15,
   "metadata": {},
   "outputs": [],
   "source": [
    "from sklearn.ensemble import RandomForestRegressor"
   ]
  },
  {
   "cell_type": "code",
   "execution_count": 16,
   "metadata": {},
   "outputs": [
    {
     "name": "stderr",
     "output_type": "stream",
     "text": [
      "A column-vector y was passed when a 1d array was expected. Please change the shape of y to (n_samples,), for example using ravel().\n"
     ]
    },
    {
     "data": {
      "text/plain": [
       "RandomForestRegressor(random_state=16)"
      ]
     },
     "execution_count": 16,
     "metadata": {},
     "output_type": "execute_result"
    }
   ],
   "source": [
    "rfr = RandomForestRegressor(random_state=16)\n",
    "rfr.fit(x_train, y_train)"
   ]
  },
  {
   "cell_type": "code",
   "execution_count": 17,
   "metadata": {},
   "outputs": [],
   "source": [
    "y_pred = rfr.predict(x_test)"
   ]
  },
  {
   "cell_type": "code",
   "execution_count": 18,
   "metadata": {},
   "outputs": [
    {
     "data": {
      "text/plain": [
       "(2479,)"
      ]
     },
     "execution_count": 18,
     "metadata": {},
     "output_type": "execute_result"
    }
   ],
   "source": [
    "y_test = y_test.values.flatten()\n",
    "y_test.shape"
   ]
  },
  {
   "cell_type": "code",
   "execution_count": 19,
   "metadata": {},
   "outputs": [
    {
     "name": "stdout",
     "output_type": "stream",
     "text": [
      "Pearson correlation coefficient: 0.9497381019126114\n",
      "Mean squared error:  275.2122950886171\n"
     ]
    }
   ],
   "source": [
    "# metrics\n",
    "from sklearn.metrics import mean_squared_error\n",
    "from scipy.stats import pearsonr\n",
    "\n",
    "mse = mean_squared_error(y_test, y_pred)\n",
    "corr, _ = pearsonr(y_test, y_pred)\n",
    "print(\"Pearson correlation coefficient:\", corr)\n",
    "print(\"Mean squared error: \", mse)"
   ]
  },
  {
   "cell_type": "markdown",
   "metadata": {},
   "source": [
    "Wow, random forest performed WAY better than lasso! That goes to show that pricing models aren't linear (who would have thought?? kidding of course.) Now let's see what the shap values have to say about each feature! "
   ]
  },
  {
   "cell_type": "code",
   "execution_count": 20,
   "metadata": {},
   "outputs": [],
   "source": [
    "import shap\n",
    "import numpy as np \n",
    "\n",
    "x = df.iloc[:, :-1]\n",
    "y = df.iloc[:, -1]\n",
    "\n",
    "explainer = shap.Explainer(rfr)"
   ]
  },
  {
   "cell_type": "code",
   "execution_count": 22,
   "metadata": {},
   "outputs": [],
   "source": [
    "shap_values = explainer.shap_values(x_train, check_additivity=False)\n",
    "\n",
    "import pickle\n",
    "\n",
    "# Save SHAP values to a file\n",
    "with open('shap_values.pkl', 'wb') as f:\n",
    "    pickle.dump(shap_values, f)\n"
   ]
  },
  {
   "cell_type": "code",
   "execution_count": 12,
   "metadata": {},
   "outputs": [
    {
     "data": {
      "text/plain": [
       "(9916, 468)"
      ]
     },
     "execution_count": 12,
     "metadata": {},
     "output_type": "execute_result"
    }
   ],
   "source": [
    "x.shape\n"
   ]
  },
  {
   "cell_type": "markdown",
   "metadata": {},
   "source": [
    "We use x, the entire feature matrix, instead of x_test because we want to see the insights on the data that was used for prediction. We are less concerned with generalizability and how the model reacts to unseen data. "
   ]
  },
  {
   "cell_type": "markdown",
   "metadata": {},
   "source": [
    "Shap values video: \n",
    "https://www.youtube.com/watch?v=L8_sVRhBDLU\n",
    "\n",
    "And remember: whenever you use pickle dump and load, make sure to use the same x matrix that you have been using. it is just the all_data_2 df with a few tweaks, as shown above. \n",
    "\n",
    "note that x-train and test are always the same because we just imported them. "
   ]
  },
  {
   "cell_type": "code",
   "execution_count": 23,
   "metadata": {},
   "outputs": [],
   "source": [
    "# RUN THIS WHEN U WANT TO LOAD UP SHAP VALUES AGAIN \n",
    "import pickle\n",
    "with open('shap_values.pkl', 'rb') as f:\n",
    "    shap_values = pickle.load(f)\n",
    "\n",
    "\n",
    "# now you should have your shap_values object back. "
   ]
  },
  {
   "cell_type": "code",
   "execution_count": 29,
   "metadata": {},
   "outputs": [
    {
     "data": {
      "image/png": "[encoded data removed]",
      "text/plain": [
       "<Figure size 800x650 with 3 Axes>"
      ]
     },
     "metadata": {},
     "output_type": "display_data"
    }
   ],
   "source": [
    "shap_values_2 = shap.Explanation(values=shap_values, base_values=explainer.expected_value, data=x_train, feature_names=x_train.columns)\n",
    "shap.plots.waterfall(shap_values_2[0])"
   ]
  },
  {
   "cell_type": "code",
   "execution_count": 35,
   "metadata": {},
   "outputs": [
    {
     "data": {
      "text/html": [
       "<div>\n",
       "<style scoped>\n",
       "    .dataframe tbody tr th:only-of-type {\n",
       "        vertical-align: middle;\n",
       "    }\n",
       "\n",
       "    .dataframe tbody tr th {\n",
       "        vertical-align: top;\n",
       "    }\n",
       "\n",
       "    .dataframe thead th {\n",
       "        text-align: right;\n",
       "    }\n",
       "</style>\n",
       "<table border=\"1\" class=\"dataframe\">\n",
       "  <thead>\n",
       "    <tr style=\"text-align: right;\">\n",
       "      <th></th>\n",
       "      <th>Feature</th>\n",
       "      <th>Mean SHAP Value</th>\n",
       "    </tr>\n",
       "  </thead>\n",
       "  <tbody>\n",
       "    <tr>\n",
       "      <th>108</th>\n",
       "      <td>leggings</td>\n",
       "      <td>1.421079e+06</td>\n",
       "    </tr>\n",
       "    <tr>\n",
       "      <th>158</th>\n",
       "      <td>terry</td>\n",
       "      <td>3.935211e+05</td>\n",
       "    </tr>\n",
       "    <tr>\n",
       "      <th>62</th>\n",
       "      <td>short-sleeve</td>\n",
       "      <td>2.629788e+05</td>\n",
       "    </tr>\n",
       "    <tr>\n",
       "      <th>170</th>\n",
       "      <td>polo</td>\n",
       "      <td>2.590452e+05</td>\n",
       "    </tr>\n",
       "    <tr>\n",
       "      <th>251</th>\n",
       "      <td>camo</td>\n",
       "      <td>2.502809e+05</td>\n",
       "    </tr>\n",
       "  </tbody>\n",
       "</table>\n",
       "</div>"
      ],
      "text/plain": [
       "          Feature  Mean SHAP Value\n",
       "108      leggings     1.421079e+06\n",
       "158         terry     3.935211e+05\n",
       "62   short-sleeve     2.629788e+05\n",
       "170          polo     2.590452e+05\n",
       "251          camo     2.502809e+05"
      ]
     },
     "execution_count": 35,
     "metadata": {},
     "output_type": "execute_result"
    }
   ],
   "source": [
    "import pandas as pd \n",
    "mean_shap_values = pd.DataFrame({\n",
    "    'Feature': x_train.columns, \n",
    "    'Mean SHAP Value': np.mean(shap_values_2.values, axis=0)\n",
    "})\n",
    "\n",
    "mean_shap_values = mean_shap_values.sort_values(by='Mean SHAP Value', ascending=False)\n",
    "mean_shap_values.head()"
   ]
  },
  {
   "cell_type": "code",
   "execution_count": 36,
   "metadata": {},
   "outputs": [
    {
     "data": {
      "text/html": [
       "<div>\n",
       "<style scoped>\n",
       "    .dataframe tbody tr th:only-of-type {\n",
       "        vertical-align: middle;\n",
       "    }\n",
       "\n",
       "    .dataframe tbody tr th {\n",
       "        vertical-align: top;\n",
       "    }\n",
       "\n",
       "    .dataframe thead th {\n",
       "        text-align: right;\n",
       "    }\n",
       "</style>\n",
       "<table border=\"1\" class=\"dataframe\">\n",
       "  <thead>\n",
       "    <tr style=\"text-align: right;\">\n",
       "      <th></th>\n",
       "      <th>Feature</th>\n",
       "      <th>Mean SHAP Value</th>\n",
       "    </tr>\n",
       "  </thead>\n",
       "  <tbody>\n",
       "    <tr>\n",
       "      <th>422</th>\n",
       "      <td>velour</td>\n",
       "      <td>-4.947534e+06</td>\n",
       "    </tr>\n",
       "    <tr>\n",
       "      <th>426</th>\n",
       "      <td>winterized</td>\n",
       "      <td>-5.089985e+06</td>\n",
       "    </tr>\n",
       "    <tr>\n",
       "      <th>72</th>\n",
       "      <td>bralette</td>\n",
       "      <td>-5.336964e+06</td>\n",
       "    </tr>\n",
       "    <tr>\n",
       "      <th>405</th>\n",
       "      <td>over-oversized</td>\n",
       "      <td>-5.755059e+06</td>\n",
       "    </tr>\n",
       "    <tr>\n",
       "      <th>321</th>\n",
       "      <td>cropped</td>\n",
       "      <td>-6.177043e+06</td>\n",
       "    </tr>\n",
       "  </tbody>\n",
       "</table>\n",
       "</div>"
      ],
      "text/plain": [
       "            Feature  Mean SHAP Value\n",
       "422          velour    -4.947534e+06\n",
       "426      winterized    -5.089985e+06\n",
       "72         bralette    -5.336964e+06\n",
       "405  over-oversized    -5.755059e+06\n",
       "321         cropped    -6.177043e+06"
      ]
     },
     "execution_count": 36,
     "metadata": {},
     "output_type": "execute_result"
    }
   ],
   "source": [
    "mean_shap_values.tail()"
   ]
  },
  {
   "cell_type": "code",
   "execution_count": 41,
   "metadata": {},
   "outputs": [
    {
     "data": {
      "text/html": [
       "<div>\n",
       "<style scoped>\n",
       "    .dataframe tbody tr th:only-of-type {\n",
       "        vertical-align: middle;\n",
       "    }\n",
       "\n",
       "    .dataframe tbody tr th {\n",
       "        vertical-align: top;\n",
       "    }\n",
       "\n",
       "    .dataframe thead th {\n",
       "        text-align: right;\n",
       "    }\n",
       "</style>\n",
       "<table border=\"1\" class=\"dataframe\">\n",
       "  <thead>\n",
       "    <tr style=\"text-align: right;\">\n",
       "      <th></th>\n",
       "      <th>Feature</th>\n",
       "      <th>Mean SHAP Value</th>\n",
       "      <th>Absolute value</th>\n",
       "    </tr>\n",
       "  </thead>\n",
       "  <tbody>\n",
       "    <tr>\n",
       "      <th>108</th>\n",
       "      <td>leggings</td>\n",
       "      <td>1.421079e+06</td>\n",
       "      <td>1.421079e+06</td>\n",
       "    </tr>\n",
       "    <tr>\n",
       "      <th>158</th>\n",
       "      <td>terry</td>\n",
       "      <td>3.935211e+05</td>\n",
       "      <td>3.935211e+05</td>\n",
       "    </tr>\n",
       "    <tr>\n",
       "      <th>62</th>\n",
       "      <td>short-sleeve</td>\n",
       "      <td>2.629788e+05</td>\n",
       "      <td>2.629788e+05</td>\n",
       "    </tr>\n",
       "    <tr>\n",
       "      <th>170</th>\n",
       "      <td>polo</td>\n",
       "      <td>2.590452e+05</td>\n",
       "      <td>2.590452e+05</td>\n",
       "    </tr>\n",
       "    <tr>\n",
       "      <th>251</th>\n",
       "      <td>camo</td>\n",
       "      <td>2.502809e+05</td>\n",
       "      <td>2.502809e+05</td>\n",
       "    </tr>\n",
       "  </tbody>\n",
       "</table>\n",
       "</div>"
      ],
      "text/plain": [
       "          Feature  Mean SHAP Value  Absolute value\n",
       "108      leggings     1.421079e+06    1.421079e+06\n",
       "158         terry     3.935211e+05    3.935211e+05\n",
       "62   short-sleeve     2.629788e+05    2.629788e+05\n",
       "170          polo     2.590452e+05    2.590452e+05\n",
       "251          camo     2.502809e+05    2.502809e+05"
      ]
     },
     "execution_count": 41,
     "metadata": {},
     "output_type": "execute_result"
    }
   ],
   "source": [
    "mean_shap_values['Absolute value'] = mean_shap_values['Mean SHAP Value'].abs()\n",
    "sub_df = mean_shap_values[mean_shap_values['Absolute value'] > 10]"
   ]
  },
  {
   "cell_type": "code",
   "execution_count": 47,
   "metadata": {},
   "outputs": [
    {
     "data": {
      "text/plain": [
       "(58, 3)"
      ]
     },
     "execution_count": 47,
     "metadata": {},
     "output_type": "execute_result"
    }
   ],
   "source": [
    "sub_df = mean_shap_values[mean_shap_values['Absolute value'] > 1000000]\n",
    "sub_df.shape"
   ]
  },
  {
   "cell_type": "code",
   "execution_count": 60,
   "metadata": {},
   "outputs": [
    {
     "name": "stdout",
     "output_type": "stream",
     "text": [
      "            Feature  Mean SHAP Value  Absolute value\n",
      "108        leggings     1.421079e+06    1.421079e+06\n",
      "4              vest    -1.009886e+06    1.009886e+06\n",
      "146          footie    -1.081858e+06    1.081858e+06\n",
      "290            crew    -1.159193e+06    1.159193e+06\n",
      "415        bodysuit    -1.183048e+06    1.183048e+06\n",
      "267           dress    -1.183292e+06    1.183292e+06\n",
      "36            scoop    -1.224520e+06    1.224520e+06\n",
      "48          1-piece    -1.227545e+06    1.227545e+06\n",
      "63           poncho    -1.366740e+06    1.366740e+06\n",
      "349             bra    -1.440615e+06    1.440615e+06\n",
      "315            swim    -1.449317e+06    1.449317e+06\n",
      "246             mid    -1.456152e+06    1.456152e+06\n",
      "425     performance    -1.474963e+06    1.474963e+06\n",
      "421            size    -1.600059e+06    1.600059e+06\n",
      "13        windshirt    -1.604958e+06    1.604958e+06\n",
      "419            nwsl    -1.638301e+06    1.638301e+06\n",
      "429        full-zip    -1.732503e+06    1.732503e+06\n",
      "148       high-neck    -1.736507e+06    1.736507e+06\n",
      "29            skirt    -1.772907e+06    1.772907e+06\n",
      "243            boxy    -2.018615e+06    2.018615e+06\n",
      "353          fleece    -2.050598e+06    2.050598e+06\n",
      "121          sleeve    -2.061323e+06    2.061323e+06\n",
      "240           denim    -2.084777e+06    2.084777e+06\n",
      "202          2-pack    -2.097168e+06    2.097168e+06\n",
      "406            tank    -2.108279e+06    2.108279e+06\n",
      "88    full-coverage    -2.158637e+06    2.158637e+06\n",
      "250         graphic    -2.164942e+06    2.164942e+06\n",
      "423          flared    -2.400458e+06    2.400458e+06\n",
      "22          sweater    -2.403741e+06    2.403741e+06\n",
      "319        checkers    -2.425723e+06    2.425723e+06\n",
      "334           drill    -2.494296e+06    2.494296e+06\n",
      "297         running    -2.544030e+06    2.544030e+06\n",
      "451  gentle-support    -2.749208e+06    2.749208e+06\n",
      "182         quilted    -2.975983e+06    2.975983e+06\n",
      "100        slim-fit    -3.026556e+06    3.026556e+06\n",
      "305  medium-support    -3.380434e+06    3.380434e+06\n",
      "330           solid    -3.384424e+06    3.384424e+06\n",
      "130      sweatpants    -3.413974e+06    3.413974e+06\n",
      "79         wide-leg    -3.666491e+06    3.666491e+06\n",
      "60        one-piece    -3.678288e+06    3.678288e+06\n",
      "395    mesh-paneled    -3.751245e+06    3.751245e+06\n",
      "351            wnba    -3.877483e+06    3.877483e+06\n",
      "377          bottom    -3.891184e+06    3.891184e+06\n",
      "302          racing    -3.930873e+06    3.930873e+06\n",
      "67           sports    -3.979632e+06    3.979632e+06\n",
      "394    firm-support    -4.048053e+06    4.048053e+06\n",
      "446          string    -4.082702e+06    4.082702e+06\n",
      "277         1/4-zip    -4.228922e+06    4.228922e+06\n",
      "293          jammer    -4.534672e+06    4.534672e+06\n",
      "68           tennis    -4.695191e+06    4.695191e+06\n",
      "207         striped    -4.778263e+06    4.778263e+06\n",
      "322          3-pack    -4.811896e+06    4.811896e+06\n",
      "125          tights    -4.936115e+06    4.936115e+06\n",
      "422          velour    -4.947534e+06    4.947534e+06\n",
      "426      winterized    -5.089985e+06    5.089985e+06\n",
      "72         bralette    -5.336964e+06    5.336964e+06\n",
      "405  over-oversized    -5.755059e+06    5.755059e+06\n",
      "321         cropped    -6.177043e+06    6.177043e+06\n"
     ]
    }
   ],
   "source": [
    "sub_df = sub_df.sort_values(by='Mean SHAP Value', ascending=False)\n",
    "print(sub_df)\n",
    "#sub_df.to_csv(\"shap_values_top_58.csv\")"
   ]
  },
  {
   "cell_type": "code",
   "execution_count": 55,
   "metadata": {},
   "outputs": [],
   "source": [
    "mean_shap_values.to_csv(\"mean_shap_values.csv\")\n",
    "df2 = mean_shap_values"
   ]
  },
  {
   "cell_type": "code",
   "execution_count": 56,
   "metadata": {},
   "outputs": [],
   "source": [
    "df2['Normalized Mean SHAP Value'] = df2['Mean SHAP Value'] / (df2['Mean SHAP Value'].max() - df2['Mean SHAP Value'].min())\n"
   ]
  },
  {
   "cell_type": "code",
   "execution_count": 57,
   "metadata": {},
   "outputs": [],
   "source": [
    "df2.to_csv(\"mean_shape_values_with_normalization.csv\")"
   ]
  }
 ],
 "metadata": {
  "kernelspec": {
   "display_name": "Python 3",
   "language": "python",
   "name": "python3"
  },
  "language_info": {
   "codemirror_mode": {
    "name": "ipython",
    "version": 3
   },
   "file_extension": ".py",
   "mimetype": "text/x-python",
   "name": "python",
   "nbconvert_exporter": "python",
   "pygments_lexer": "ipython3",
   "version": "3.9.15"
  }
 },
 "nbformat": 4,
 "nbformat_minor": 2
}
