{
 "cells": [
  {
   "cell_type": "markdown",
   "metadata": {},
   "source": [
    "In this notebook we are going to try to cluster the product descriptions into different categories using several different NLP models, then run a comparative price analysis in each category across gender. This is a different approach than the previous one, which was using a simple bag-of-words method to encode the product descriptions and running linear regression / random forest regression to see the weights associated with each word. \n",
    "\n",
    "The new clustering method is an effort to recognize and work with Simpson's paradox. \n",
    "\n",
    "## Model 1: BERTopic\n",
    "We will start with BERTopic because it has many advantages for this type of problem, as outlined in this research article: \n",
    "https://www.ncbi.nlm.nih.gov/pmc/articles/PMC9120935/\n",
    "\n",
    "The main one being that it works well with smaller sets of data, and that it doesn't require any type of pre-processing. Yippee! \n",
    "\n",
    "General plan: \n",
    "1. Clean the data a little - at least make sure that there are no weird symbols or slashes. \n",
    "2. Remove duplicates in the data. This is also crucial to removing Simpson's paradox. \n",
    "3. Keep track of which product descriptions are womens and which are mens. \n",
    "4. Cluster all the product descriptions using BERTopic. \n",
    "5. With each cluster, find the average price in the women's clothing and the men's. \n",
    "6. Analyze and discuss results. \n",
    "\n",
    "I will be using this tutorial to help me: \n",
    "https://www.youtube.com/watch?v=v3SePt3fr9g&ab_channel=PythonTutorialsforDigitalHumanities \n",
    "\n",
    "Let's go ahead and get started!"
   ]
  },
  {
   "cell_type": "code",
   "execution_count": 3,
   "metadata": {},
   "outputs": [],
   "source": [
    "from bertopic import BERTopic\n",
    "import json \n",
    "import pandas as pd"
   ]
  },
  {
   "cell_type": "code",
   "execution_count": 6,
   "metadata": {},
   "outputs": [
    {
     "data": {
      "text/html": [
       "<div>\n",
       "<style scoped>\n",
       "    .dataframe tbody tr th:only-of-type {\n",
       "        vertical-align: middle;\n",
       "    }\n",
       "\n",
       "    .dataframe tbody tr th {\n",
       "        vertical-align: top;\n",
       "    }\n",
       "\n",
       "    .dataframe thead th {\n",
       "        text-align: right;\n",
       "    }\n",
       "</style>\n",
       "<table border=\"1\" class=\"dataframe\">\n",
       "  <thead>\n",
       "    <tr style=\"text-align: right;\">\n",
       "      <th></th>\n",
       "      <th>Product Title</th>\n",
       "      <th>Product Subtitle</th>\n",
       "      <th>Price</th>\n",
       "    </tr>\n",
       "  </thead>\n",
       "  <tbody>\n",
       "    <tr>\n",
       "      <th>0</th>\n",
       "      <td>Nike Pro</td>\n",
       "      <td>Women's Dri-FIT Cropped Tank Top</td>\n",
       "      <td>$40</td>\n",
       "    </tr>\n",
       "    <tr>\n",
       "      <th>1</th>\n",
       "      <td>Nike Pro Sculpt</td>\n",
       "      <td>Women's High-Waisted 3\" Biker Shorts</td>\n",
       "      <td>$38</td>\n",
       "    </tr>\n",
       "    <tr>\n",
       "      <th>2</th>\n",
       "      <td>Nike Sportswear Phoenix Fleece</td>\n",
       "      <td>Women's Over-Oversized Pullover Hoodie</td>\n",
       "      <td>$75</td>\n",
       "    </tr>\n",
       "    <tr>\n",
       "      <th>3</th>\n",
       "      <td>Nike Sportswear Phoenix Fleece</td>\n",
       "      <td>Women's High-Waisted Oversized Sweatpants</td>\n",
       "      <td>$70</td>\n",
       "    </tr>\n",
       "    <tr>\n",
       "      <th>4</th>\n",
       "      <td>Nike Sportswear Women's Artist Collection</td>\n",
       "      <td>Bomber Jacket</td>\n",
       "      <td>$160</td>\n",
       "    </tr>\n",
       "  </tbody>\n",
       "</table>\n",
       "</div>"
      ],
      "text/plain": [
       "                               Product Title  \\\n",
       "0                                   Nike Pro   \n",
       "1                            Nike Pro Sculpt   \n",
       "2             Nike Sportswear Phoenix Fleece   \n",
       "3             Nike Sportswear Phoenix Fleece   \n",
       "4  Nike Sportswear Women's Artist Collection   \n",
       "\n",
       "                            Product Subtitle Price  \n",
       "0           Women's Dri-FIT Cropped Tank Top   $40  \n",
       "1       Women's High-Waisted 3\" Biker Shorts   $38  \n",
       "2     Women's Over-Oversized Pullover Hoodie   $75  \n",
       "3  Women's High-Waisted Oversized Sweatpants   $70  \n",
       "4                              Bomber Jacket  $160  "
      ]
     },
     "execution_count": 6,
     "metadata": {},
     "output_type": "execute_result"
    }
   ],
   "source": [
    "# now let's preprocess the data just a little. \n",
    "\n",
    "w_df = pd.read_csv(\"womens_nike_data.csv\")\n",
    "w_df.head()"
   ]
  },
  {
   "cell_type": "code",
   "execution_count": 3,
   "metadata": {},
   "outputs": [
    {
     "data": {
      "text/plain": [
       "(3054, 3)"
      ]
     },
     "execution_count": 3,
     "metadata": {},
     "output_type": "execute_result"
    }
   ],
   "source": [
    "w_df.shape"
   ]
  },
  {
   "cell_type": "markdown",
   "metadata": {},
   "source": [
    "This dataset is great to start BERTopic with because it has a pretty long product description, consisting of both a product title and a subtitle. Let's just remove the word \"Women's\" and \"Nike\" from each product to be consistent with the other datasets. We also want to remove any duplicates.  "
   ]
  },
  {
   "cell_type": "code",
   "execution_count": 7,
   "metadata": {},
   "outputs": [
    {
     "data": {
      "text/html": [
       "<div>\n",
       "<style scoped>\n",
       "    .dataframe tbody tr th:only-of-type {\n",
       "        vertical-align: middle;\n",
       "    }\n",
       "\n",
       "    .dataframe tbody tr th {\n",
       "        vertical-align: top;\n",
       "    }\n",
       "\n",
       "    .dataframe thead th {\n",
       "        text-align: right;\n",
       "    }\n",
       "</style>\n",
       "<table border=\"1\" class=\"dataframe\">\n",
       "  <thead>\n",
       "    <tr style=\"text-align: right;\">\n",
       "      <th></th>\n",
       "      <th>Product Title</th>\n",
       "      <th>Product Subtitle</th>\n",
       "      <th>Price</th>\n",
       "    </tr>\n",
       "  </thead>\n",
       "  <tbody>\n",
       "    <tr>\n",
       "      <th>0</th>\n",
       "      <td>Pro</td>\n",
       "      <td>Dri-FIT Cropped Tank Top</td>\n",
       "      <td>40.0</td>\n",
       "    </tr>\n",
       "    <tr>\n",
       "      <th>1</th>\n",
       "      <td>Pro Sculpt</td>\n",
       "      <td>High-Waisted 3\" Biker Shorts</td>\n",
       "      <td>38.0</td>\n",
       "    </tr>\n",
       "    <tr>\n",
       "      <th>2</th>\n",
       "      <td>Sportswear Phoenix Fleece</td>\n",
       "      <td>Over-Oversized Pullover Hoodie</td>\n",
       "      <td>75.0</td>\n",
       "    </tr>\n",
       "    <tr>\n",
       "      <th>3</th>\n",
       "      <td>Sportswear Phoenix Fleece</td>\n",
       "      <td>High-Waisted Oversized Sweatpants</td>\n",
       "      <td>70.0</td>\n",
       "    </tr>\n",
       "    <tr>\n",
       "      <th>4</th>\n",
       "      <td>Sportswear  Artist Collection</td>\n",
       "      <td>Bomber Jacket</td>\n",
       "      <td>160.0</td>\n",
       "    </tr>\n",
       "  </tbody>\n",
       "</table>\n",
       "</div>"
      ],
      "text/plain": [
       "                    Product Title                    Product Subtitle  Price\n",
       "0                             Pro            Dri-FIT Cropped Tank Top   40.0\n",
       "1                      Pro Sculpt        High-Waisted 3\" Biker Shorts   38.0\n",
       "2       Sportswear Phoenix Fleece      Over-Oversized Pullover Hoodie   75.0\n",
       "3       Sportswear Phoenix Fleece   High-Waisted Oversized Sweatpants   70.0\n",
       "4   Sportswear  Artist Collection                       Bomber Jacket  160.0"
      ]
     },
     "execution_count": 7,
     "metadata": {},
     "output_type": "execute_result"
    }
   ],
   "source": [
    "w_df['Product Title'] = w_df['Product Title'].str.replace(\"Women's\", \"\")\n",
    "w_df['Product Subtitle'] = w_df['Product Subtitle'].str.replace(\"Women's\", \"\")\n",
    "w_df['Product Title'] = w_df['Product Title'].str.replace(\"Nike\", \"\")\n",
    "w_df['Product Subtitle'] = w_df['Product Subtitle'].str.replace(\"Nike\", \"\")\n",
    "w_df['Price'] = w_df['Price'].str.replace(\"$\", \"\")\n",
    "w_df['Price'] = w_df['Price'].astype(float)\n",
    "w_df = w_df.drop_duplicates()\n",
    "w_df.head()"
   ]
  },
  {
   "cell_type": "code",
   "execution_count": 5,
   "metadata": {},
   "outputs": [
    {
     "data": {
      "text/plain": [
       "(2152, 3)"
      ]
     },
     "execution_count": 5,
     "metadata": {},
     "output_type": "execute_result"
    }
   ],
   "source": [
    "w_df.shape"
   ]
  },
  {
   "cell_type": "markdown",
   "metadata": {},
   "source": [
    "By removing the duplicates got rid of about 900 products!\n",
    "\n",
    "Now, let's just combine these product descriptions into one. I don't know why I didn't do this before. Lol. "
   ]
  },
  {
   "cell_type": "code",
   "execution_count": 8,
   "metadata": {},
   "outputs": [
    {
     "data": {
      "text/html": [
       "<div>\n",
       "<style scoped>\n",
       "    .dataframe tbody tr th:only-of-type {\n",
       "        vertical-align: middle;\n",
       "    }\n",
       "\n",
       "    .dataframe tbody tr th {\n",
       "        vertical-align: top;\n",
       "    }\n",
       "\n",
       "    .dataframe thead th {\n",
       "        text-align: right;\n",
       "    }\n",
       "</style>\n",
       "<table border=\"1\" class=\"dataframe\">\n",
       "  <thead>\n",
       "    <tr style=\"text-align: right;\">\n",
       "      <th></th>\n",
       "      <th>Product Description</th>\n",
       "      <th>Price</th>\n",
       "    </tr>\n",
       "  </thead>\n",
       "  <tbody>\n",
       "    <tr>\n",
       "      <th>0</th>\n",
       "      <td>Pro  Dri-FIT Cropped Tank Top</td>\n",
       "      <td>40.0</td>\n",
       "    </tr>\n",
       "    <tr>\n",
       "      <th>1</th>\n",
       "      <td>Pro Sculpt  High-Waisted 3\" Biker Shorts</td>\n",
       "      <td>38.0</td>\n",
       "    </tr>\n",
       "    <tr>\n",
       "      <th>2</th>\n",
       "      <td>Sportswear Phoenix Fleece  Over-Oversized Pul...</td>\n",
       "      <td>75.0</td>\n",
       "    </tr>\n",
       "    <tr>\n",
       "      <th>3</th>\n",
       "      <td>Sportswear Phoenix Fleece  High-Waisted Overs...</td>\n",
       "      <td>70.0</td>\n",
       "    </tr>\n",
       "    <tr>\n",
       "      <th>4</th>\n",
       "      <td>Sportswear  Artist Collection Bomber Jacket</td>\n",
       "      <td>160.0</td>\n",
       "    </tr>\n",
       "  </tbody>\n",
       "</table>\n",
       "</div>"
      ],
      "text/plain": [
       "                                 Product Description  Price\n",
       "0                      Pro  Dri-FIT Cropped Tank Top   40.0\n",
       "1           Pro Sculpt  High-Waisted 3\" Biker Shorts   38.0\n",
       "2   Sportswear Phoenix Fleece  Over-Oversized Pul...   75.0\n",
       "3   Sportswear Phoenix Fleece  High-Waisted Overs...   70.0\n",
       "4        Sportswear  Artist Collection Bomber Jacket  160.0"
      ]
     },
     "execution_count": 8,
     "metadata": {},
     "output_type": "execute_result"
    }
   ],
   "source": [
    "w_df['Product Description'] = w_df['Product Title'].astype(str) + \" \" + w_df['Product Subtitle'].astype(str)\n",
    "w_df = w_df.drop('Product Title', axis=1)\n",
    "w_df = w_df.drop('Product Subtitle', axis=1)\n",
    "# rearrange order of columns \n",
    "w_df = w_df[['Product Description', 'Price']]\n",
    "w_df.head()"
   ]
  },
  {
   "cell_type": "code",
   "execution_count": 9,
   "metadata": {},
   "outputs": [
    {
     "data": {
      "text/html": [
       "<div>\n",
       "<style scoped>\n",
       "    .dataframe tbody tr th:only-of-type {\n",
       "        vertical-align: middle;\n",
       "    }\n",
       "\n",
       "    .dataframe tbody tr th {\n",
       "        vertical-align: top;\n",
       "    }\n",
       "\n",
       "    .dataframe thead th {\n",
       "        text-align: right;\n",
       "    }\n",
       "</style>\n",
       "<table border=\"1\" class=\"dataframe\">\n",
       "  <thead>\n",
       "    <tr style=\"text-align: right;\">\n",
       "      <th></th>\n",
       "      <th>Product Description</th>\n",
       "      <th>Price</th>\n",
       "    </tr>\n",
       "  </thead>\n",
       "  <tbody>\n",
       "    <tr>\n",
       "      <th>0</th>\n",
       "      <td>Club  Woven Flow Shorts</td>\n",
       "      <td>50.00</td>\n",
       "    </tr>\n",
       "    <tr>\n",
       "      <th>1</th>\n",
       "      <td>Sportswear Club Fleece  Graphic Crew</td>\n",
       "      <td>65.00</td>\n",
       "    </tr>\n",
       "    <tr>\n",
       "      <th>2</th>\n",
       "      <td>Sportswear Club  Graphic Shorts</td>\n",
       "      <td>30.97</td>\n",
       "    </tr>\n",
       "    <tr>\n",
       "      <th>3</th>\n",
       "      <td>Sportswear  T-Shirt</td>\n",
       "      <td>35.00</td>\n",
       "    </tr>\n",
       "    <tr>\n",
       "      <th>4</th>\n",
       "      <td>Club  Chino Shorts</td>\n",
       "      <td>70.00</td>\n",
       "    </tr>\n",
       "  </tbody>\n",
       "</table>\n",
       "</div>"
      ],
      "text/plain": [
       "                     Product Description  Price\n",
       "0                Club  Woven Flow Shorts  50.00\n",
       "1   Sportswear Club Fleece  Graphic Crew  65.00\n",
       "2        Sportswear Club  Graphic Shorts  30.97\n",
       "3                    Sportswear  T-Shirt  35.00\n",
       "4                     Club  Chino Shorts  70.00"
      ]
     },
     "execution_count": 9,
     "metadata": {},
     "output_type": "execute_result"
    }
   ],
   "source": [
    "# now repeat for mens \n",
    "m_df = pd.read_csv(\"mens_nike_data.csv\")\n",
    "\n",
    "m_df['Product Title'] = m_df['Product Title'].str.replace(\"Men's\", \"\")\n",
    "m_df['Product Subtitle'] = m_df['Product Subtitle'].str.replace(\"Men's\", \"\")\n",
    "m_df['Product Title'] = m_df['Product Title'].str.replace(\"Nike\", \"\")\n",
    "m_df['Product Subtitle'] = m_df['Product Subtitle'].str.replace(\"Nike\", \"\")\n",
    "m_df['Price'] = m_df['Price'].str.replace(\"$\", \"\")\n",
    "m_df['Price'] = m_df['Price'].astype(float)\n",
    "m_df = m_df.drop_duplicates()\n",
    "m_df['Product Description'] = m_df['Product Title'].astype(str) + \" \" + m_df['Product Subtitle'].astype(str)\n",
    "m_df = m_df.drop('Product Title', axis=1)\n",
    "m_df = m_df.drop('Product Subtitle', axis=1)\n",
    "m_df = m_df[['Product Description', 'Price']]\n",
    "m_df.head()"
   ]
  },
  {
   "cell_type": "code",
   "execution_count": 8,
   "metadata": {},
   "outputs": [
    {
     "data": {
      "text/plain": [
       "(5227, 2)"
      ]
     },
     "execution_count": 8,
     "metadata": {},
     "output_type": "execute_result"
    }
   ],
   "source": [
    "m_df.shape"
   ]
  },
  {
   "cell_type": "markdown",
   "metadata": {},
   "source": [
    "Hmmm. There are still over 2x mens products than womens, even when we remove duplicates. Oh well I'm just gonna ignore that for now. Maybe later I'll put in a step here and run the analysis again. But right now I kind of just want to see what will happen. "
   ]
  },
  {
   "cell_type": "code",
   "execution_count": 10,
   "metadata": {},
   "outputs": [
    {
     "name": "stdout",
     "output_type": "stream",
     "text": [
      "All product descriptions among men's and women's data:  7379\n",
      "Set of UNIQUE product descriptions among men's and women's data:  6602\n"
     ]
    }
   ],
   "source": [
    "descriptions = (w_df['Product Description'].to_list()) + (m_df['Product Description'].to_list())\n",
    "print(\"All product descriptions among men's and women's data: \",len(descriptions))\n",
    "descriptions = set(descriptions)\n",
    "descriptions = list(descriptions)\n",
    "print(\"Set of UNIQUE product descriptions among men's and women's data: \", len(descriptions))\n"
   ]
  },
  {
   "cell_type": "markdown",
   "metadata": {},
   "source": [
    "oh wait there's actually 6600 product descriptions. That means we can try other topic modeling approaches such as Top2Vec. \n",
    "\n",
    "For the embedding model we're just going to start with all-MiniLM-L6-v2, which is a good all-purpose model according to [BERT's website](https://www.sbert.net/docs/sentence_transformer/pretrained_models.html). Later we can experiment with different embedding models. "
   ]
  },
  {
   "cell_type": "code",
   "execution_count": 11,
   "metadata": {},
   "outputs": [],
   "source": [
    "file_path = \"descriptions.json\"\n",
    "with open(file_path, 'w') as json_file:\n",
    "    json.dump(descriptions, json_file, indent=4)"
   ]
  },
  {
   "cell_type": "code",
   "execution_count": 11,
   "metadata": {},
   "outputs": [],
   "source": [
    "topic_model = BERTopic(embedding_model=\"all-MiniLM-L6-v2\")"
   ]
  },
  {
   "cell_type": "code",
   "execution_count": 12,
   "metadata": {},
   "outputs": [],
   "source": [
    "with open('descriptions.json', 'r') as json_file:\n",
    "    descriptions = json.load(json_file)"
   ]
  },
  {
   "cell_type": "code",
   "execution_count": 13,
   "metadata": {},
   "outputs": [],
   "source": [
    "small_descriptions = descriptions[:100]"
   ]
  },
  {
   "cell_type": "code",
   "execution_count": 14,
   "metadata": {},
   "outputs": [
    {
     "ename": "",
     "evalue": "",
     "output_type": "error",
     "traceback": [
      "\u001b[1;31mThe Kernel crashed while executing code in the current cell or a previous cell. \n",
      "\u001b[1;31mPlease review the code in the cell(s) to identify a possible cause of the failure. \n",
      "\u001b[1;31mClick <a href='https://aka.ms/vscodeJupyterKernelCrash'>here</a> for more info. \n",
      "\u001b[1;31mView Jupyter <a href='command:jupyter.viewOutput'>log</a> for further details."
     ]
    }
   ],
   "source": [
    "topics, probs = topic_model.fit_transform(small_descriptions)"
   ]
  },
  {
   "cell_type": "markdown",
   "metadata": {},
   "source": [
    "K this is being weird so I'm gonna try it in google colab... please work! Be right back. \n",
    "\n",
    "Okay it worked. Here is what I ran in Google Colab: \n",
    "```\n",
    "from bertopic import BERTopic\n",
    "topic_model = BERTopic(embedding_model=\"all-MiniLM-L6-v2\")\n",
    "topics, probs = topic_model.fit_transform(descriptions)\n",
    "info = topic_model.get_topic_info()\n",
    "\n",
    "import pickle\n",
    "with open('topics.pkl', 'wb') as f:\n",
    "    pickle.dump(topics, f)\n",
    "with open('probs.pkl', 'wb') as f: \n",
    "  pickle.dump(probs, f)\n",
    "with open('info.pkl', 'wb') as f:\n",
    "  pickle.dump(info, f)\n",
    "\n",
    "```"
   ]
  },
  {
   "cell_type": "code",
   "execution_count": 18,
   "metadata": {},
   "outputs": [],
   "source": [
    "# now we load everything up again \n",
    "import pickle\n",
    "with open('topics.pkl', 'rb') as f:\n",
    "    topics = pickle.load(f)\n",
    "\n",
    "with open('probs.pkl', 'rb') as f:\n",
    "    probs = pickle.load(f)\n",
    "\n",
    "with open('info.pkl', 'rb') as f: \n",
    "    info = pickle.load(f)"
   ]
  },
  {
   "cell_type": "code",
   "execution_count": 19,
   "metadata": {},
   "outputs": [
    {
     "data": {
      "text/html": [
       "<div>\n",
       "<style scoped>\n",
       "    .dataframe tbody tr th:only-of-type {\n",
       "        vertical-align: middle;\n",
       "    }\n",
       "\n",
       "    .dataframe tbody tr th {\n",
       "        vertical-align: top;\n",
       "    }\n",
       "\n",
       "    .dataframe thead th {\n",
       "        text-align: right;\n",
       "    }\n",
       "</style>\n",
       "<table border=\"1\" class=\"dataframe\">\n",
       "  <thead>\n",
       "    <tr style=\"text-align: right;\">\n",
       "      <th></th>\n",
       "      <th>Topic</th>\n",
       "      <th>Count</th>\n",
       "      <th>Name</th>\n",
       "      <th>Representation</th>\n",
       "      <th>Representative_Docs</th>\n",
       "    </tr>\n",
       "  </thead>\n",
       "  <tbody>\n",
       "    <tr>\n",
       "      <th>0</th>\n",
       "      <td>-1</td>\n",
       "      <td>760</td>\n",
       "      <td>-1_courtside_am_e9rica_usa</td>\n",
       "      <td>[courtside, am, e9rica, usa, nba, yoga, wolf, ...</td>\n",
       "      <td>[Los Angeles Lakers Courtside Statement Editio...</td>\n",
       "    </tr>\n",
       "    <tr>\n",
       "      <th>1</th>\n",
       "      <td>0</td>\n",
       "      <td>284</td>\n",
       "      <td>0_large_fuse_stack_logo</td>\n",
       "      <td>[large, fuse, stack, logo, athletic, coopersto...</td>\n",
       "      <td>[Chicago White Sox Large Logo Back Stack   MLB...</td>\n",
       "    </tr>\n",
       "    <tr>\n",
       "      <th>2</th>\n",
       "      <td>1</td>\n",
       "      <td>187</td>\n",
       "      <td>1_limited_adv_elite_jersey</td>\n",
       "      <td>[limited, adv, elite, jersey, league, star, al...</td>\n",
       "      <td>[New York Yankees Cooperstown   Dri-FIT ADV ML...</td>\n",
       "    </tr>\n",
       "    <tr>\n",
       "      <th>3</th>\n",
       "      <td>2</td>\n",
       "      <td>145</td>\n",
       "      <td>2_blitz_essential_nfl_primetime</td>\n",
       "      <td>[blitz, essential, nfl, primetime, wordmark, r...</td>\n",
       "      <td>[Pittsburgh Steelers Blitz Essential   NFL T-S...</td>\n",
       "    </tr>\n",
       "    <tr>\n",
       "      <th>4</th>\n",
       "      <td>3</td>\n",
       "      <td>124</td>\n",
       "      <td>3_break_fast_long_sleeve</td>\n",
       "      <td>[break, fast, long, sleeve, college, max90, st...</td>\n",
       "      <td>[Michigan Fast Break   College Long-Sleeve T-S...</td>\n",
       "    </tr>\n",
       "  </tbody>\n",
       "</table>\n",
       "</div>"
      ],
      "text/plain": [
       "   Topic  Count                             Name  \\\n",
       "0     -1    760       -1_courtside_am_e9rica_usa   \n",
       "1      0    284          0_large_fuse_stack_logo   \n",
       "2      1    187       1_limited_adv_elite_jersey   \n",
       "3      2    145  2_blitz_essential_nfl_primetime   \n",
       "4      3    124         3_break_fast_long_sleeve   \n",
       "\n",
       "                                      Representation  \\\n",
       "0  [courtside, am, e9rica, usa, nba, yoga, wolf, ...   \n",
       "1  [large, fuse, stack, logo, athletic, coopersto...   \n",
       "2  [limited, adv, elite, jersey, league, star, al...   \n",
       "3  [blitz, essential, nfl, primetime, wordmark, r...   \n",
       "4  [break, fast, long, sleeve, college, max90, st...   \n",
       "\n",
       "                                 Representative_Docs  \n",
       "0  [Los Angeles Lakers Courtside Statement Editio...  \n",
       "1  [Chicago White Sox Large Logo Back Stack   MLB...  \n",
       "2  [New York Yankees Cooperstown   Dri-FIT ADV ML...  \n",
       "3  [Pittsburgh Steelers Blitz Essential   NFL T-S...  \n",
       "4  [Michigan Fast Break   College Long-Sleeve T-S...  "
      ]
     },
     "execution_count": 19,
     "metadata": {},
     "output_type": "execute_result"
    }
   ],
   "source": [
    "info.head()"
   ]
  },
  {
   "cell_type": "code",
   "execution_count": 20,
   "metadata": {},
   "outputs": [
    {
     "name": "stdout",
     "output_type": "stream",
     "text": [
      "179\n"
     ]
    }
   ],
   "source": [
    "print(len(list(set(topics))))"
   ]
  },
  {
   "cell_type": "markdown",
   "metadata": {},
   "source": [
    "Wow! This is so sick. BERTopic just clustered these 6600 product descriptions into just 179 clusters. Let's learn a little bit more about each one."
   ]
  },
  {
   "cell_type": "code",
   "execution_count": 36,
   "metadata": {},
   "outputs": [
    {
     "name": "stdout",
     "output_type": "stream",
     "text": [
      "Some items representative of the cluster named  2_blitz_essential_nfl_primetime are: \n",
      "         Pittsburgh Steelers Blitz Essential   NFL T-Shirt\n",
      "         San Francisco 49ers Blitz Essential   NFL T-Shirt\n",
      "         New York Giants Blitz Essential   NFL T-Shirt\n",
      "\n",
      " Some items representative of the cluster named  59_coach_sideline_top_nfl are: \n",
      "         Miami Dolphins Sideline Coach   Dri-FIT NFL Top\n",
      "         Miami Dolphins Sideline Coach   Dri-FIT NFL Long-Sleeve Top\n",
      "         New York Giants Sideline Coach   Dri-FIT NFL Top\n",
      "\n",
      " Some items representative of the cluster named  149_bomber_time_full_game are: \n",
      "         Houston Astros Authentic Collection City Connect Game Time   MLB Full-Zip Bomber Jacket\n",
      "         New York Mets Authentic Collection City Connect Game Time   MLB Full-Zip Bomber Jacket\n",
      "         Chicago Cubs Authentic Collection City Connect Game Time   MLB Full-Zip Bomber Jacket\n",
      "\n",
      " Some items representative of the cluster named  169_swingman_icon_edition_2020 are: \n",
      "         Golden State Warriors Icon Edition   NBA Swingman Shorts\n",
      "         Boston Celtics Icon Edition   NBA Swingman Shorts\n",
      "         Brooklyn Nets Icon Edition   NBA Swingman Shorts\n"
     ]
    }
   ],
   "source": [
    "print(\"Some items representative of the cluster named \", info.iloc[3]['Name'], \"are: \")\n",
    "for item in info.iloc[3]['Representative_Docs']: \n",
    "    print(\"        \", item)\n",
    "\n",
    "print(\"\\n Some items representative of the cluster named \", info.iloc[60]['Name'], \"are: \")\n",
    "for item in info.iloc[60]['Representative_Docs']: \n",
    "    print(\"        \", item)\n",
    "\n",
    "print(\"\\n Some items representative of the cluster named \", info.iloc[150]['Name'], \"are: \")\n",
    "for item in info.iloc[150]['Representative_Docs']: \n",
    "    print(\"        \", item)\n",
    "\n",
    "print(\"\\n Some items representative of the cluster named \", info.iloc[170]['Name'], \"are: \")\n",
    "for item in info.iloc[170]['Representative_Docs']: \n",
    "    print(\"        \", item)"
   ]
  },
  {
   "cell_type": "markdown",
   "metadata": {},
   "source": [
    "As we can see, it appears as though BERTopic has done a fairly accurate job clustering the product descriptions. However, remember how in the beginning we combined both the product title and the product subtitle to create one long product description? Well, I am afraid that these product descriptions are too unique and that within each cluster, there won't even be much overlap between women's items and men's items. Aka, one cluster will be just men's items and another will be just women's, because the clusters are way too specific. \n",
    "\n",
    "Let's redo this using only the product subtitles. Don't worry, we'll be quick. "
   ]
  },
  {
   "cell_type": "code",
   "execution_count": 48,
   "metadata": {},
   "outputs": [
    {
     "data": {
      "text/html": [
       "<div>\n",
       "<style scoped>\n",
       "    .dataframe tbody tr th:only-of-type {\n",
       "        vertical-align: middle;\n",
       "    }\n",
       "\n",
       "    .dataframe tbody tr th {\n",
       "        vertical-align: top;\n",
       "    }\n",
       "\n",
       "    .dataframe thead th {\n",
       "        text-align: right;\n",
       "    }\n",
       "</style>\n",
       "<table border=\"1\" class=\"dataframe\">\n",
       "  <thead>\n",
       "    <tr style=\"text-align: right;\">\n",
       "      <th></th>\n",
       "      <th>Product Description</th>\n",
       "      <th>Price</th>\n",
       "    </tr>\n",
       "  </thead>\n",
       "  <tbody>\n",
       "    <tr>\n",
       "      <th>0</th>\n",
       "      <td>Dri-FIT Cropped Tank Top</td>\n",
       "      <td>40.0</td>\n",
       "    </tr>\n",
       "    <tr>\n",
       "      <th>1</th>\n",
       "      <td>High-Waisted 3\" Biker Shorts</td>\n",
       "      <td>38.0</td>\n",
       "    </tr>\n",
       "    <tr>\n",
       "      <th>2</th>\n",
       "      <td>Over-Oversized Pullover Hoodie</td>\n",
       "      <td>75.0</td>\n",
       "    </tr>\n",
       "    <tr>\n",
       "      <th>3</th>\n",
       "      <td>High-Waisted Oversized Sweatpants</td>\n",
       "      <td>70.0</td>\n",
       "    </tr>\n",
       "    <tr>\n",
       "      <th>4</th>\n",
       "      <td>Bomber Jacket</td>\n",
       "      <td>160.0</td>\n",
       "    </tr>\n",
       "  </tbody>\n",
       "</table>\n",
       "</div>"
      ],
      "text/plain": [
       "                  Product Description  Price\n",
       "0            Dri-FIT Cropped Tank Top   40.0\n",
       "1        High-Waisted 3\" Biker Shorts   38.0\n",
       "2      Over-Oversized Pullover Hoodie   75.0\n",
       "3   High-Waisted Oversized Sweatpants   70.0\n",
       "4                       Bomber Jacket  160.0"
      ]
     },
     "execution_count": 48,
     "metadata": {},
     "output_type": "execute_result"
    }
   ],
   "source": [
    "w_df = pd.read_csv(\"womens_nike_data.csv\")\n",
    "w_df.drop('Product Title', axis=1)\n",
    "w_df['Product Subtitle'] = w_df['Product Subtitle'].str.replace(\"Women's\", \"\")\n",
    "w_df['Product Subtitle'] = w_df['Product Subtitle'].str.replace(\"Nike\", \"\")\n",
    "w_df['Price'] = w_df['Price'].str.replace(\"$\", \"\")\n",
    "w_df['Price'] = w_df['Price'].astype(float)\n",
    "w_df['Product Description'] = w_df['Product Subtitle'].astype(str)\n",
    "w_df = w_df.drop('Product Subtitle', axis=1)\n",
    "w_df = w_df[['Product Description', 'Price']]\n",
    "w_df = w_df.drop_duplicates()\n",
    "w_df.head()\n"
   ]
  },
  {
   "cell_type": "code",
   "execution_count": 46,
   "metadata": {},
   "outputs": [
    {
     "data": {
      "text/html": [
       "<div>\n",
       "<style scoped>\n",
       "    .dataframe tbody tr th:only-of-type {\n",
       "        vertical-align: middle;\n",
       "    }\n",
       "\n",
       "    .dataframe tbody tr th {\n",
       "        vertical-align: top;\n",
       "    }\n",
       "\n",
       "    .dataframe thead th {\n",
       "        text-align: right;\n",
       "    }\n",
       "</style>\n",
       "<table border=\"1\" class=\"dataframe\">\n",
       "  <thead>\n",
       "    <tr style=\"text-align: right;\">\n",
       "      <th></th>\n",
       "      <th>Product Description</th>\n",
       "      <th>Price</th>\n",
       "    </tr>\n",
       "  </thead>\n",
       "  <tbody>\n",
       "    <tr>\n",
       "      <th>0</th>\n",
       "      <td>Woven Flow Shorts</td>\n",
       "      <td>50.00</td>\n",
       "    </tr>\n",
       "    <tr>\n",
       "      <th>1</th>\n",
       "      <td>Graphic Crew</td>\n",
       "      <td>65.00</td>\n",
       "    </tr>\n",
       "    <tr>\n",
       "      <th>2</th>\n",
       "      <td>Graphic Shorts</td>\n",
       "      <td>30.97</td>\n",
       "    </tr>\n",
       "    <tr>\n",
       "      <th>3</th>\n",
       "      <td>T-Shirt</td>\n",
       "      <td>35.00</td>\n",
       "    </tr>\n",
       "    <tr>\n",
       "      <th>4</th>\n",
       "      <td>Chino Shorts</td>\n",
       "      <td>70.00</td>\n",
       "    </tr>\n",
       "  </tbody>\n",
       "</table>\n",
       "</div>"
      ],
      "text/plain": [
       "  Product Description  Price\n",
       "0   Woven Flow Shorts  50.00\n",
       "1        Graphic Crew  65.00\n",
       "2      Graphic Shorts  30.97\n",
       "3             T-Shirt  35.00\n",
       "4        Chino Shorts  70.00"
      ]
     },
     "execution_count": 46,
     "metadata": {},
     "output_type": "execute_result"
    }
   ],
   "source": [
    "m_df = pd.read_csv(\"mens_nike_data.csv\")\n",
    "m_df.drop('Product Title', axis=1)\n",
    "m_df['Product Subtitle'] = m_df['Product Subtitle'].str.replace(\"Men's\", \"\")\n",
    "m_df['Product Subtitle'] = m_df['Product Subtitle'].str.replace(\"Nike\", \"\")\n",
    "m_df['Price'] = m_df['Price'].str.replace(\"$\", \"\")\n",
    "m_df['Price'] = m_df['Price'].astype(float)\n",
    "m_df['Product Description'] = m_df['Product Subtitle'].astype(str)\n",
    "m_df = m_df.drop('Product Subtitle', axis=1)\n",
    "m_df = m_df[['Product Description', 'Price']]\n",
    "m_df = m_df.drop_duplicates()\n",
    "m_df.head()"
   ]
  },
  {
   "cell_type": "code",
   "execution_count": 49,
   "metadata": {},
   "outputs": [
    {
     "name": "stdout",
     "output_type": "stream",
     "text": [
      "No. women's unique items:  1466 \n",
      "No. men's unique items:  1894\n",
      "     Product Description  Price\n",
      "71               T-Shirt   35.0\n",
      "6358             T-Shirt   60.0\n"
     ]
    }
   ],
   "source": [
    "print(\"No. women's unique items: \", w_df.shape[0], \"\\nNo. men's unique items: \", m_df.shape[0])"
   ]
  },
  {
   "cell_type": "markdown",
   "metadata": {},
   "source": [
    "Okay now this is even better than the first time because we have more even number of womens vs mens products! Once again I'm not gonna do anything about this class imbalance just yet, lol. Because I need clusters based on all the products, I guess. I can make a step to come back to this later. "
   ]
  },
  {
   "cell_type": "code",
   "execution_count": 51,
   "metadata": {},
   "outputs": [
    {
     "name": "stdout",
     "output_type": "stream",
     "text": [
      "All product descriptions among men's and women's data:  3360\n",
      "Set of UNIQUE product descriptions among men's and women's data:  2043\n"
     ]
    }
   ],
   "source": [
    "descriptions = (w_df['Product Description'].to_list()) + (m_df['Product Description'].to_list())\n",
    "print(\"All product descriptions among men's and women's data: \",len(descriptions))\n",
    "descriptions = set(descriptions)\n",
    "descriptions = list(descriptions)\n",
    "print(\"Set of UNIQUE product descriptions among men's and women's data: \", len(descriptions))\n",
    "\n",
    "# the _s stands for subtitle (or simple, whatever you want to remember it by, since we are simplifying the product descriptions)\n",
    "file_path = \"descriptions_s.json\"\n",
    "with open(file_path, 'w') as json_file:\n",
    "    json.dump(descriptions, json_file, indent=4)"
   ]
  },
  {
   "cell_type": "markdown",
   "metadata": {},
   "source": [
    "Now we go back into google colab and run the above code once again. \n",
    "\n",
    "```\n",
    "from bertopic import BERTopic\n",
    "topic_model = BERTopic(embedding_model=\"all-MiniLM-L6-v2\")\n",
    "\n",
    "with open('descriptions_s.json', 'r') as json_file:\n",
    "    descriptions_s = json.load(json_file)\n",
    "  \n",
    "topics, probs = topic_model.fit_transform(descriptions_s)\n",
    "info = topic_model.get_topic_info()\n",
    "\n",
    "import pickle\n",
    "with open('topics_s.pkl', 'wb') as f:\n",
    "    pickle.dump(topics, f)\n",
    "with open('probs_s.pkl', 'wb') as f: \n",
    "  pickle.dump(probs, f)\n",
    "with open('info_s.pkl', 'wb') as f:\n",
    "  pickle.dump(info, f)\n",
    "```"
   ]
  },
  {
   "cell_type": "code",
   "execution_count": 53,
   "metadata": {},
   "outputs": [
    {
     "name": "stdout",
     "output_type": "stream",
     "text": [
      "60\n"
     ]
    }
   ],
   "source": [
    "# load it back up: \n",
    "import pickle\n",
    "with open('topics_s.pkl', 'rb') as f:\n",
    "    topics = pickle.load(f)\n",
    "\n",
    "with open('probs_s.pkl', 'rb') as f:\n",
    "    probs = pickle.load(f)\n",
    "\n",
    "with open('info_s.pkl', 'rb') as f: \n",
    "    info = pickle.load(f)\n",
    "\n",
    "print(len(list(set(topics))))"
   ]
  },
  {
   "cell_type": "markdown",
   "metadata": {},
   "source": [
    "AMAZING!!! We went from 2000 products to 60 clusters! SIXTY!!!! Wahoo! Okay now let's see if these are worth anything though... "
   ]
  },
  {
   "cell_type": "code",
   "execution_count": 54,
   "metadata": {},
   "outputs": [
    {
     "name": "stdout",
     "output_type": "stream",
     "text": [
      "Some items representative of the cluster named  2_pants_dri_fit_bodysuit are: \n",
      "          Dri-FIT Soccer Pants\n",
      "           Dri-FIT Pants\n",
      "          Dri-FIT Pants\n",
      "\n",
      " Some items representative of the cluster named  9_jersey_replica_football_hockey are: \n",
      "           College Basketball Replica Jersey\n",
      "          College Basketball Replica Jersey\n",
      "           College Football Replica Jersey\n",
      "\n",
      " Some items representative of the cluster named  29_skirt_midi_tennis_flouncy are: \n",
      "          Dri-FIT Tennis Skirt\n",
      "          Tennis Skirt\n",
      "          Skirt\n",
      "\n",
      " Some items representative of the cluster named  49_sweatpants_wide_leg_rise are: \n",
      "          High-Waisted Wide-Leg Sweatpants (Plus Size)\n",
      "          Mid-Rise Wide-Leg Sweatpants\n",
      "          Mid-Rise Wide-Leg Sweatpants (Plus Size)\n"
     ]
    }
   ],
   "source": [
    "print(\"Some items representative of the cluster named \", info.iloc[3]['Name'], \"are: \")\n",
    "for item in info.iloc[3]['Representative_Docs']: \n",
    "    print(\"        \", item)\n",
    "\n",
    "print(\"\\n Some items representative of the cluster named \", info.iloc[10]['Name'], \"are: \")\n",
    "for item in info.iloc[10]['Representative_Docs']: \n",
    "    print(\"        \", item)\n",
    "\n",
    "print(\"\\n Some items representative of the cluster named \", info.iloc[30]['Name'], \"are: \")\n",
    "for item in info.iloc[30]['Representative_Docs']: \n",
    "    print(\"        \", item)\n",
    "\n",
    "print(\"\\n Some items representative of the cluster named \", info.iloc[50]['Name'], \"are: \")\n",
    "for item in info.iloc[50]['Representative_Docs']: \n",
    "    print(\"        \", item)"
   ]
  },
  {
   "cell_type": "markdown",
   "metadata": {},
   "source": [
    "Looking good, looking good, looking good. Once again, might be just a bit too specific. For example, I'd prefer things like \"Sweatpants\" as opposed to specifically ones that specify a rise and leg size, because those are usually women's only and can't be compared to men's. But let's just see where this takes us. "
   ]
  },
  {
   "cell_type": "code",
   "execution_count": 57,
   "metadata": {},
   "outputs": [
    {
     "data": {
      "text/html": [
       "<div>\n",
       "<style scoped>\n",
       "    .dataframe tbody tr th:only-of-type {\n",
       "        vertical-align: middle;\n",
       "    }\n",
       "\n",
       "    .dataframe tbody tr th {\n",
       "        vertical-align: top;\n",
       "    }\n",
       "\n",
       "    .dataframe thead th {\n",
       "        text-align: right;\n",
       "    }\n",
       "</style>\n",
       "<table border=\"1\" class=\"dataframe\">\n",
       "  <thead>\n",
       "    <tr style=\"text-align: right;\">\n",
       "      <th></th>\n",
       "      <th>topic</th>\n",
       "      <th>document</th>\n",
       "    </tr>\n",
       "  </thead>\n",
       "  <tbody>\n",
       "    <tr>\n",
       "      <th>0</th>\n",
       "      <td>16</td>\n",
       "      <td>Bikini Swim Bottom</td>\n",
       "    </tr>\n",
       "    <tr>\n",
       "      <th>1</th>\n",
       "      <td>51</td>\n",
       "      <td>Cropped Ribbed Tank</td>\n",
       "    </tr>\n",
       "    <tr>\n",
       "      <th>2</th>\n",
       "      <td>30</td>\n",
       "      <td>Jordan NBA Swingman Shorts</td>\n",
       "    </tr>\n",
       "    <tr>\n",
       "      <th>3</th>\n",
       "      <td>-1</td>\n",
       "      <td>College Fleece Shorts</td>\n",
       "    </tr>\n",
       "    <tr>\n",
       "      <th>4</th>\n",
       "      <td>11</td>\n",
       "      <td>Ankle Socks</td>\n",
       "    </tr>\n",
       "  </tbody>\n",
       "</table>\n",
       "</div>"
      ],
      "text/plain": [
       "   topic                     document\n",
       "0     16           Bikini Swim Bottom\n",
       "1     51          Cropped Ribbed Tank\n",
       "2     30   Jordan NBA Swingman Shorts\n",
       "3     -1        College Fleece Shorts\n",
       "4     11                  Ankle Socks"
      ]
     },
     "execution_count": 57,
     "metadata": {},
     "output_type": "execute_result"
    }
   ],
   "source": [
    "df = pd.DataFrame({\"topic\": topics, \"document\": descriptions})\n",
    "df.head()"
   ]
  },
  {
   "cell_type": "code",
   "execution_count": 58,
   "metadata": {},
   "outputs": [
    {
     "name": "stdout",
     "output_type": "stream",
     "text": [
      "(2043, 2)\n"
     ]
    }
   ],
   "source": [
    "print(df.shape)"
   ]
  },
  {
   "cell_type": "markdown",
   "metadata": {},
   "source": [
    "So we just made a dataframe that shows which description is in which topic or cluster. The final step is to match these descriptions back to their womens or mens pages, find the price in each, and compare. But if the topics are too specific then once again this might not give us anything useful. Not to fret however because then we can experiment with even more models and methods of semantic clustering!!! "
   ]
  },
  {
   "cell_type": "code",
   "execution_count": 69,
   "metadata": {},
   "outputs": [],
   "source": [
    "w_df\n",
    "m_df\n",
    "results_list = []\n",
    "\n",
    "for topic in df['topic'].unique():\n",
    "    topic_docs = df[df['topic'] == topic]['document']\n",
    "    womens_prices = []\n",
    "    mens_prices = []\n",
    "    for doc in topic_docs:\n",
    "        if doc in w_df['Product Description'].values:\n",
    "            womens_price = w_df[w_df['Product Description'] == doc]['Price'].values[0]\n",
    "            womens_prices.append(womens_price)\n",
    "        if doc in mens_df['Product Description'].values:\n",
    "            mens_price = m_df[m_df['Product Description'] == doc]['Price'].values[0]\n",
    "            mens_prices.append(mens_price)\n",
    "    if womens_prices: \n",
    "        womens_avg = sum(womens_prices) / len(womens_prices)\n",
    "    else: \n",
    "        womens_avg = None\n",
    "    if mens_prices: \n",
    "        mens_avg = sum(mens_prices) / len(mens_prices) \n",
    "    else: \n",
    "        mens_avg = None \n",
    "    results_list.append({\n",
    "        \"topic\": topic,\n",
    "        \"womens average price\": womens_avg,\n",
    "        \"mens average price\": mens_avg\n",
    "    })\n",
    "# convert back to df \n",
    "results_df = pd.DataFrame(results_list)"
   ]
  },
  {
   "cell_type": "code",
   "execution_count": 70,
   "metadata": {},
   "outputs": [
    {
     "data": {
      "text/html": [
       "<div>\n",
       "<style scoped>\n",
       "    .dataframe tbody tr th:only-of-type {\n",
       "        vertical-align: middle;\n",
       "    }\n",
       "\n",
       "    .dataframe tbody tr th {\n",
       "        vertical-align: top;\n",
       "    }\n",
       "\n",
       "    .dataframe thead th {\n",
       "        text-align: right;\n",
       "    }\n",
       "</style>\n",
       "<table border=\"1\" class=\"dataframe\">\n",
       "  <thead>\n",
       "    <tr style=\"text-align: right;\">\n",
       "      <th></th>\n",
       "      <th>topic</th>\n",
       "      <th>womens average price</th>\n",
       "      <th>mens average price</th>\n",
       "    </tr>\n",
       "  </thead>\n",
       "  <tbody>\n",
       "    <tr>\n",
       "      <th>0</th>\n",
       "      <td>16</td>\n",
       "      <td>65.494375</td>\n",
       "      <td>57.000000</td>\n",
       "    </tr>\n",
       "    <tr>\n",
       "      <th>1</th>\n",
       "      <td>51</td>\n",
       "      <td>41.554286</td>\n",
       "      <td>NaN</td>\n",
       "    </tr>\n",
       "    <tr>\n",
       "      <th>2</th>\n",
       "      <td>30</td>\n",
       "      <td>47.540000</td>\n",
       "      <td>56.893333</td>\n",
       "    </tr>\n",
       "    <tr>\n",
       "      <th>3</th>\n",
       "      <td>-1</td>\n",
       "      <td>77.800062</td>\n",
       "      <td>89.792947</td>\n",
       "    </tr>\n",
       "    <tr>\n",
       "      <th>4</th>\n",
       "      <td>11</td>\n",
       "      <td>21.184048</td>\n",
       "      <td>21.090244</td>\n",
       "    </tr>\n",
       "  </tbody>\n",
       "</table>\n",
       "</div>"
      ],
      "text/plain": [
       "   topic  womens average price  mens average price\n",
       "0     16             65.494375           57.000000\n",
       "1     51             41.554286                 NaN\n",
       "2     30             47.540000           56.893333\n",
       "3     -1             77.800062           89.792947\n",
       "4     11             21.184048           21.090244"
      ]
     },
     "execution_count": 70,
     "metadata": {},
     "output_type": "execute_result"
    }
   ],
   "source": [
    "results_df.head()"
   ]
  },
  {
   "cell_type": "code",
   "execution_count": 71,
   "metadata": {},
   "outputs": [
    {
     "name": "stdout",
     "output_type": "stream",
     "text": [
      "Number of comparable categories: 51\n",
      "No. of categories where women's price is higher by $1: 13\n",
      "No. of categories where men's price is higher by $1: 36\n",
      "No. of categories where prices are equal (less than $1 difference): 2\n"
     ]
    }
   ],
   "source": [
    "# initiatlize counts \n",
    "count1 = 0 \n",
    "count2 = 0  \n",
    "count3 = 0  \n",
    "count_nan = 0  \n",
    "\n",
    "for index, row in results_df.iterrows():\n",
    "    womens_price = row['womens average price']\n",
    "    mens_price = row['mens average price']\n",
    "    if pd.isna(womens_price) or pd.isna(mens_price):\n",
    "        count_nan += 1\n",
    "    else:\n",
    "        if womens_price - mens_price > 1:\n",
    "            count1 += 1\n",
    "        elif mens_price - womens_price > 1:\n",
    "            count2 += 1\n",
    "        else:\n",
    "            count3 += 1\n",
    "no_nan = len(results_df) - count_nan\n",
    "\n",
    "# Print counts and total\n",
    "print(f\"Number of comparable categories: {no_nan}\")\n",
    "print(f\"No. of categories where women's price is higher by $1: {count1}\")\n",
    "print(f\"No. of categories where men's price is higher by $1: {count2}\")\n",
    "print(f\"No. of categories where prices are equal (less than $1 difference): {count3}\")"
   ]
  },
  {
   "cell_type": "markdown",
   "metadata": {},
   "source": [
    "Very cool. Nice work, Nike. Let's run the new one tomorrow. \n",
    "\n",
    "I also must run this on gymshark before I jump to any conclusions, because with gymshark I know what the results need to be. It's sort of like supervised learning, in a way. Not really. Lol. "
   ]
  }
 ],
 "metadata": {
  "kernelspec": {
   "display_name": "Python 3",
   "language": "python",
   "name": "python3"
  },
  "language_info": {
   "codemirror_mode": {
    "name": "ipython",
    "version": 3
   },
   "file_extension": ".py",
   "mimetype": "text/x-python",
   "name": "python",
   "nbconvert_exporter": "python",
   "pygments_lexer": "ipython3",
   "version": "3.9.15"
  }
 },
 "nbformat": 4,
 "nbformat_minor": 2
}
