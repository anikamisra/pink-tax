{
 "cells": [
  {
   "cell_type": "code",
   "execution_count": 6,
   "metadata": {},
   "outputs": [
    {
     "data": {
      "text/html": [
       "<div>\n",
       "<style scoped>\n",
       "    .dataframe tbody tr th:only-of-type {\n",
       "        vertical-align: middle;\n",
       "    }\n",
       "\n",
       "    .dataframe tbody tr th {\n",
       "        vertical-align: top;\n",
       "    }\n",
       "\n",
       "    .dataframe thead th {\n",
       "        text-align: right;\n",
       "    }\n",
       "</style>\n",
       "<table border=\"1\" class=\"dataframe\">\n",
       "  <thead>\n",
       "    <tr style=\"text-align: right;\">\n",
       "      <th></th>\n",
       "      <th>Product Name</th>\n",
       "      <th>Price</th>\n",
       "    </tr>\n",
       "  </thead>\n",
       "  <tbody>\n",
       "    <tr>\n",
       "      <th>0</th>\n",
       "      <td>Dance Studio Mid-Rise Pant \\\\nRegular</td>\n",
       "      <td>118.0</td>\n",
       "    </tr>\n",
       "    <tr>\n",
       "      <th>1</th>\n",
       "      <td>Scuba Oversized Funnel-Neck Half Zip \\\\nLong</td>\n",
       "      <td>128.0</td>\n",
       "    </tr>\n",
       "    <tr>\n",
       "      <th>2</th>\n",
       "      <td>Varsity Scoop-Neck Cropped Tennis Tank Top \\\\n...</td>\n",
       "      <td>78.0</td>\n",
       "    </tr>\n",
       "    <tr>\n",
       "      <th>3</th>\n",
       "      <td>Lightweight High-Rise Relaxed Short 3\" \\\\nLong...</td>\n",
       "      <td>78.0</td>\n",
       "    </tr>\n",
       "    <tr>\n",
       "      <th>4</th>\n",
       "      <td>Scuba Full-Zip Hoodie</td>\n",
       "      <td>118.0</td>\n",
       "    </tr>\n",
       "  </tbody>\n",
       "</table>\n",
       "</div>"
      ],
      "text/plain": [
       "                                        Product Name  Price\n",
       "0              Dance Studio Mid-Rise Pant \\\\nRegular  118.0\n",
       "1       Scuba Oversized Funnel-Neck Half Zip \\\\nLong  128.0\n",
       "2  Varsity Scoop-Neck Cropped Tennis Tank Top \\\\n...   78.0\n",
       "3  Lightweight High-Rise Relaxed Short 3\" \\\\nLong...   78.0\n",
       "4                              Scuba Full-Zip Hoodie  118.0"
      ]
     },
     "execution_count": 6,
     "metadata": {},
     "output_type": "execute_result"
    }
   ],
   "source": [
    "import pandas as pd\n",
    "w_df = pd.read_csv(\"lululemon_womens_data.csv\")\n",
    "m_df = pd.read_csv(\"lululemon_mens_data.csv\")\n",
    "\n",
    "w_df.head()"
   ]
  },
  {
   "cell_type": "code",
   "execution_count": 13,
   "metadata": {},
   "outputs": [
    {
     "data": {
      "text/html": [
       "<div>\n",
       "<style scoped>\n",
       "    .dataframe tbody tr th:only-of-type {\n",
       "        vertical-align: middle;\n",
       "    }\n",
       "\n",
       "    .dataframe tbody tr th {\n",
       "        vertical-align: top;\n",
       "    }\n",
       "\n",
       "    .dataframe thead th {\n",
       "        text-align: right;\n",
       "    }\n",
       "</style>\n",
       "<table border=\"1\" class=\"dataframe\">\n",
       "  <thead>\n",
       "    <tr style=\"text-align: right;\">\n",
       "      <th></th>\n",
       "      <th>Product Name</th>\n",
       "      <th>Price</th>\n",
       "    </tr>\n",
       "  </thead>\n",
       "  <tbody>\n",
       "    <tr>\n",
       "      <th>0</th>\n",
       "      <td>dance studio mid-rise pant regular</td>\n",
       "      <td>118.0</td>\n",
       "    </tr>\n",
       "    <tr>\n",
       "      <th>1</th>\n",
       "      <td>scuba oversized funnel-neck half zip long</td>\n",
       "      <td>128.0</td>\n",
       "    </tr>\n",
       "    <tr>\n",
       "      <th>2</th>\n",
       "      <td>varsity scoop-neck cropped tennis tank top med...</td>\n",
       "      <td>78.0</td>\n",
       "    </tr>\n",
       "    <tr>\n",
       "      <th>3</th>\n",
       "      <td>lightweight high-rise relaxed short 3\" long liner</td>\n",
       "      <td>78.0</td>\n",
       "    </tr>\n",
       "    <tr>\n",
       "      <th>4</th>\n",
       "      <td>scuba full-zip hoodie</td>\n",
       "      <td>118.0</td>\n",
       "    </tr>\n",
       "  </tbody>\n",
       "</table>\n",
       "</div>"
      ],
      "text/plain": [
       "                                        Product Name  Price\n",
       "0                 dance studio mid-rise pant regular  118.0\n",
       "1          scuba oversized funnel-neck half zip long  128.0\n",
       "2  varsity scoop-neck cropped tennis tank top med...   78.0\n",
       "3  lightweight high-rise relaxed short 3\" long liner   78.0\n",
       "4                              scuba full-zip hoodie  118.0"
      ]
     },
     "execution_count": 13,
     "metadata": {},
     "output_type": "execute_result"
    }
   ],
   "source": [
    "# clearly we need to get rid of any weird characters like the slashes and the \"n\"'s like \"\\\\n\". \n",
    "\n",
    "w_df['Product Name'] = w_df['Product Name'].str.replace('\\\\n', '', regex=False)\n",
    "w_df['Product Name'] = w_df['Product Name'].str.replace('\\\\', '', regex=False)\n",
    "w_df['Product Name'] = w_df['Product Name'].str.replace('\\n', '', regex=False)\n",
    "w_df['Product Name'] = w_df['Product Name'].str.replace(\"'\", \"\", regex=False)\n",
    "w_df = w_df[~w_df['Product Name'].str.contains(\" mens\")]\n",
    "w_df = w_df[~w_df['Product Name'].str.contains(\"Mens\")]\n",
    "w_df['Product Name'] = w_df['Product Name'].str.lower().str.replace('lululemon', '', regex=False)\n",
    "w_df.head()"
   ]
  },
  {
   "cell_type": "code",
   "execution_count": 14,
   "metadata": {},
   "outputs": [
    {
     "data": {
      "text/html": [
       "<div>\n",
       "<style scoped>\n",
       "    .dataframe tbody tr th:only-of-type {\n",
       "        vertical-align: middle;\n",
       "    }\n",
       "\n",
       "    .dataframe tbody tr th {\n",
       "        vertical-align: top;\n",
       "    }\n",
       "\n",
       "    .dataframe thead th {\n",
       "        text-align: right;\n",
       "    }\n",
       "</style>\n",
       "<table border=\"1\" class=\"dataframe\">\n",
       "  <thead>\n",
       "    <tr style=\"text-align: right;\">\n",
       "      <th></th>\n",
       "      <th>Product Name</th>\n",
       "      <th>Price</th>\n",
       "    </tr>\n",
       "  </thead>\n",
       "  <tbody>\n",
       "    <tr>\n",
       "      <th>0</th>\n",
       "      <td>new venture short-sleeve knit polo shirt</td>\n",
       "      <td>118.0</td>\n",
       "    </tr>\n",
       "    <tr>\n",
       "      <th>1</th>\n",
       "      <td>stretch cotton versatwill relaxed-fit cargo pant</td>\n",
       "      <td>148.0</td>\n",
       "    </tr>\n",
       "    <tr>\n",
       "      <th>2</th>\n",
       "      <td>new venture classic-fit long-sleeve shirt</td>\n",
       "      <td>118.0</td>\n",
       "    </tr>\n",
       "    <tr>\n",
       "      <th>3</th>\n",
       "      <td>abc classic-fit trouser 32\"l stretch cotton ve...</td>\n",
       "      <td>128.0</td>\n",
       "    </tr>\n",
       "    <tr>\n",
       "      <th>4</th>\n",
       "      <td>new venture long-sleeve knit polo shirt</td>\n",
       "      <td>148.0</td>\n",
       "    </tr>\n",
       "  </tbody>\n",
       "</table>\n",
       "</div>"
      ],
      "text/plain": [
       "                                        Product Name  Price\n",
       "0           new venture short-sleeve knit polo shirt  118.0\n",
       "1   stretch cotton versatwill relaxed-fit cargo pant  148.0\n",
       "2          new venture classic-fit long-sleeve shirt  118.0\n",
       "3  abc classic-fit trouser 32\"l stretch cotton ve...  128.0\n",
       "4            new venture long-sleeve knit polo shirt  148.0"
      ]
     },
     "execution_count": 14,
     "metadata": {},
     "output_type": "execute_result"
    }
   ],
   "source": [
    "# repeat for mens \n",
    "m_df['Product Name'] = m_df['Product Name'].str.replace('\\\\n', '', regex=False)\n",
    "m_df['Product Name'] = m_df['Product Name'].str.replace('\\\\', '', regex=False)\n",
    "m_df['Product Name'] = m_df['Product Name'].str.replace('\\n', '', regex=False)\n",
    "m_df['Product Name'] = m_df['Product Name'].str.lower().str.replace('lululemon', '', regex=False)\n",
    "m_df['Product Name'] = m_df['Product Name'].str.replace(\"'\", \"\", regex=False)\n",
    "m_df = m_df[~m_df['Product Name'].str.contains(\"womens\")]\n",
    "m_df.head()"
   ]
  },
  {
   "cell_type": "code",
   "execution_count": 18,
   "metadata": {},
   "outputs": [
    {
     "name": "stdout",
     "output_type": "stream",
     "text": [
      "{'keyhole', '10\"', 'wool-knit', 'cpc', 'side-snap', 'rest', 'hiking', 'unisex', 'v', 'button-up', 'modal', 'collar', 'adjustable', '6', 'and', 'push', 'sweetheart', 'a', 'd/dd', '2894', 'contour', 'tapered-leg', '+', 'longline', 'love', 'ragg', 'y', 'cross', 'identity', 'up', 'ponytail', 'tie-back', 'mug', 'pull-on', 'soft', '2\"', 'surge', 'super-high-cut', 'two-toned', '2.5l', 'boyshort', 'shrug', 'windbreaker', 'colourblock', '3', 'spacer', 'racerback', 'day', 'lounge', 'seated-fit', 'translucent', 'powered', 'metal', 'skinny-fit', 'now', '17l', 'high', 'vitasea', 'street', 'hem', '25\"', 'lite', 'crossbody', 'romper', 'hot', '32.5\"', 'rubber', 'mini', 'that', 'colour', 'wristband', 'scoop-neck', 'heavy', 'warp', 'low', 'command', 'cropped', 'quilted', 'low-ankle', 'bend', 't.h.e.', '12oz', 'linerless', 'wave-quilt', 'year', 'rulu', 'rival', 'abc', 'rain', 'over', 'align99', 'breathable', 'one-shoulder', 'ribbed', 'travel', 'tie-waist', '9\"', 'side-cinch', 'multi-texture', 'shoe', 'crew', 'envital', 'zip-leg', 'sport', 'grid', 'mid-crew', 'cityverse', 'regular', 'zip', 'double-strap', 'front-zip', 'perfectly', 'soft-knit', '5\"', 'square-neck', 'one-piece', 'cupro', 'ebb', 'swim', 'towel', 'super', 'extra', 'ready', 'underwear', 'takes', 'outdoor', 'find', 'swift', 'thermal', 'hardware', 'clippable', 'packing', 'hood', 'down', 'grid-texture', 'side-pleat', 'power', 'lid', 'backpack', 'smasher', 'high-neck', 'vented', 'sweat', 'non-stop', '27\"l', 'thin', 'insulated', '3l', 'switch', 'bra', 'trail', 'tech', 'ultralight', '64oz', 'for', 'double', 'skirt', '25l', 'block', '2.5\"', 'fold-over', 'bikini', 'gloves', 'case', 'anew', 'hat', 'instill', 'mat', 'emboss', 'cross-back', 'chargefeel', 'free', 'off-the-shoulder', 'inner', 'performance', 'muscle', 'relaxed', 'shortie', 'mist', 'move', 'twill', 'parent', '2594', 'wunderlust', 'dipped-waist', 'limits', 'hooded', 'pockets', 'route', 'your', 'venture', 'sneaker', 'cardigan', 'medium', 'like', 'uplifting', 'board', 'always', 'tab', 'warmth', 'beanie', 'all-sport', 'take', 'wristlet', 'double-knit', 'purist', '1l', '(big)', 'lift', 'aerobic', 'both', 'dress', 'pullover', 'everlux', 'removable', 'straight-hem', '24oz', 'alpaca', 'cotton', 'define', 'city', 'pool', 'cap', '29\"', 'jogger', 'lunar', 'midi', 'wide-leg', 'hoodie', '2-in-1', 'mind', 'b/c', 'ultralu', 'corset', 'yoga', 'waterproof', 'fit', 'oversized-fit', 'groove', 'restfeel', 'softstreme', 'high-rise', 'cups', 'mens', 'active', 'speed', 'scuba', 'tall', '10l', 'mid-length', 'short', 'mesh', 'silk', 'cargo', '8\"', 'reversible', 'relaxed-tapered', 'henley', 'pique', '12l', '26oz', 'city-to-hike', 'lined', 'tube', 'nylon', 'funnel-neck', 'strappy', '29l', 'a96ddd(e)', 'airing', '2l', 'high-waist', 'cubes', '20l', 'lightweight', 'shorter', 'boxy', 'on', 'oxford', 'tipping', 'a96c', 'rebel', 'boxer', 'v-waist', 'shirt', 'super-cropped', 'sojourn', 'trouser', 'updated', 'sleeveless', '2', 'everywhere', 'ankle', 'hip-length', 'quarter', '17\"', 'carpenter', 'down-filled', 'versatwill', 'clip', 'dry', 'sandal', 'modal-blend', 'still', 'smoothcover', 'waistband', 'poplin', 'comfort', 'weather', 'sculpt', 'belt', '2.0', 'b96ddd', 'release', 'times', 'large', 'revelation', 'recover', 'cycling', 'license', 'laundry', 'energy', 'fly', 'under', 'two-tone', '6\"', '20oz', 'roller', 'vital', 'waist', 'snap-front', 'clear', 'dance', 't-strap', 'varsity', '31\"', 'slide', 'overshirt', 'turtleneck', 'all', 'waist-length', 'tip', 'logo', 'cotton-blend', 'less', 'paneled', 'pants', 'wool-blend', 'bucket', 'utilitech', 'slim-tapered', 'breathe', 'socks', 'certified', 'bag', 'cap-sleeve', 'skinny', 'duffle', 'warm', 'curved-hem', 'goal', 'hip', 'senseknit', 'ripstop', 'cruiser', 'gridliner', 'built', 'jacquard', 'glow', 'light', 'abrasion-resistant', 'halter', 'insulation', 'mockneck', 't-shirt', 'pivot', 'flared', 'foam', 'classic', 'merino', 'high-coverage', 'easy', 'fleece', '34\"', 'lace', 'c/d', 'baselayer', 'workout', 'half-zip', 'fundamental', 'button-front', 'boatneck', '28\"', 'fsc99', 'night', 'tank', 'crew-length', 'breaker', 'ultra-soft', 'navigation', 'overalls', 'brief', 'running', 'strongfeel', 'a96d', 'bowline', 'wunder', '5', 'ways', 'invigorate', 'wild', 'crop', 'stride', 'keychain', 'with', 'card', 'zip-front', 'yours', 'modal-silk', 'a/b', 'stretchseal', 'multi-pocket', 'sheer', 'narrow', 'team', 'lab', 'relaxed-fit', 'mid', 'canada', 'stripe', '32\"', 'heavyweight', 'race', 'chill', 'track', 'dopp', 'pleated', 'short-sleeve', 'cates', 'graphic', 'jersey', 'wrap-front', 'coaches', 'brunswick', 'open-knit', 'convertible', 'button-down', 'tight-fit', 'contoured', 'pace', '3\"', 'diamond', 'water', 'base', 'seamless', 'straight-leg', 'blazer', 'armband', 'sleeve', 'layer', 'ventilated', 'b96g', 'slouch', 'bralette', 'tennis', 'fabric', '7\"', 'claw', 'headband', 'mini-flare', 'straw', 'micropillow', 'jacket', 'never', 'slit', 'front', 'slim-fit', 'golf', '27\"', 'its', 'a-g', 'bodysuit', 'be', 'asymmetrical-waist', 'cortes', 'sweatband', 'bomber', 'quick', 'shoulder', 'tie', 'vest', 'warpstreme', 'crewneck', 'fast', 'shadow', 'spaghetti-strap', 'cinchable', '3.5\"', 'polo', 'foil', 'collared', '22\"', 'made', 'no-show', 'full-zip', '22l', 'velvet', 'run', 'rapid', 'b96d', 'lengthen', '21\"', '23l', 'b-d', 'pouch', 'enlite', 'hybrid', '24\"', 'macropillow', 'coc', 'bandeau', 'hike', 'knee-high', 'parka', 'tote', 'thong', '7/8', 'dual', 'lost', 'festival', 'tear-away', '4\"', 'visor', 'hem-cinch', '19\"', 'knit', 'new', 'ties', '1.5mm', 'hair', '45l', 'bermuda', 'flow', 'scrunchies', 'singlet', 'cloud', '28\"l', 'asymmetrical', '30\"l', '34\"l', '-', 'essentials', 'getter', 'reflective', 'pocket', 'support,', 'utility', 'true', 'beyondfeel', 'split', 'tech-woven', 'curved', 'oversized', '37\"l', 'underease', 'coat', 'organic', 'another', 'state', 'it', 'classic-fit', 'daily', 'embroidered', 'stretching', 'repelshell', 'cut-out', 'band', 'training', 'shorts', 'open-back', 'packable', '26\"l', 'pride', 'camp', 'recovery', '3mm', 'transformable', 'barrel-leg', 'utilitarian', 'low-rise', 'roll-up', 'unitard', 'life', 'brushed', '(small)', 'liner', 'support', 'tight', 'canvas', 'classic-tapered', 'long', 'motion', 'to', 'square', 'composite', 'length', 'swiftly', 'hotty', 'invisiwear', 'hold', 'long-sleeve', 'adventurer', 'action', 'zeroed', 'grip', 'triangle', '23\"', 'shine', '32oz', 'effortless', 'twist-back', '5l', 'loop', 'french', 'resistance', 'no', 'back', 'v-neck', 'wovenair', 'woven', 'sweater', 'womens', '5mm', 'gathered', 'pack', 'steady', 'vent', 'sleek', 'cold', 'cushioning', 'luxtreme', 'racer', 'scoop', 'super-soft', 'leg', 'open', 'adapted', 'full', 'wordmark', 'toiletries', 'the', 'nulu', 'go', 'half', 'studio', 'evolution', '30\"', 'anorak', 'terry', 'tearaway', 'aligned', 'smooth', 'balance', 'commission', 'cup', 'kit', 'straight', 'ball', 'bottle', 'cami', 'drive', 'in', 'pant', 'set', 'strap', 'top', 'trench', 'flourish', 'puff', 'iridescent', 'wundermost', 'current', 'shoulder-twist', 'luon', 'balancer', 'mile', 'trucker', 'a-c', '32\"l', 'water-repellent', '32l', 'compression', 'blissfeel', 'engineered', 'stretch', '7', 'mid-rise', 'showzero99', 'this', 'cord', 'train', 'tapered', 'textured', 'a-d', 'super-high-rise', 'nulux', 'ruched'}\n"
     ]
    }
   ],
   "source": [
    "# now let's make a list of all the words \n",
    "\n",
    "all_words_list = []\n",
    "for item in w_df['Product Name']: \n",
    "    if (isinstance(item, str) == True) :\n",
    "        item_list = item.split()\n",
    "        for word in item_list: \n",
    "            word = word.lower()\n",
    "            all_words_list.append(word)\n",
    "for item in m_df['Product Name']: \n",
    "    if (isinstance(item, str) == True) : \n",
    "        item_list = item.split()\n",
    "        for word in item_list: \n",
    "            word = word.lower()\n",
    "            all_words_list.append(word)\n",
    "\n",
    "all_words_list = sorted(all_words_list)\n",
    "all_words_set = set(all_words_list)\n",
    "print(all_words_set)"
   ]
  },
  {
   "cell_type": "code",
   "execution_count": 19,
   "metadata": {},
   "outputs": [
    {
     "name": "stdout",
     "output_type": "stream",
     "text": [
      "707\n"
     ]
    }
   ],
   "source": [
    "print(len(all_words_set))"
   ]
  },
  {
   "cell_type": "code",
   "execution_count": null,
   "metadata": {},
   "outputs": [],
   "source": [
    "# create feature matrix "
   ]
  }
 ],
 "metadata": {
  "kernelspec": {
   "display_name": "Python 3",
   "language": "python",
   "name": "python3"
  },
  "language_info": {
   "codemirror_mode": {
    "name": "ipython",
    "version": 3
   },
   "file_extension": ".py",
   "mimetype": "text/x-python",
   "name": "python",
   "nbconvert_exporter": "python",
   "pygments_lexer": "ipython3",
   "version": "3.9.15"
  }
 },
 "nbformat": 4,
 "nbformat_minor": 2
}
