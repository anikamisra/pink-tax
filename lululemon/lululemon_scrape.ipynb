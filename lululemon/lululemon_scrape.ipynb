{
 "cells": [
  {
   "cell_type": "code",
   "execution_count": 99,
   "metadata": {},
   "outputs": [],
   "source": [
    "# this html page was downloaded on Monday, August 26th, 2024 at 9:05pm EST. \n",
    "\n",
    "import pandas as pd\n",
    "from bs4 import BeautifulSoup"
   ]
  },
  {
   "cell_type": "code",
   "execution_count": 100,
   "metadata": {},
   "outputs": [],
   "source": [
    "with open('/Users/anikamisra/Desktop/personal-projects/pink-tax/lululemon/lululemon_products_womens.html', 'r') as html_file:\n",
    "    content = html_file.read()\n",
    "\n",
    "soup = BeautifulSoup(content, 'html.parser')"
   ]
  },
  {
   "cell_type": "code",
   "execution_count": 101,
   "metadata": {},
   "outputs": [],
   "source": [
    "product_tiles = soup.find_all('div', class_='product-tile')\n",
    "\n",
    "# Lists to hold product names and prices\n",
    "product_names = []\n",
    "prices = []\n",
    "\n",
    "for tile in product_tiles:\n",
    "    # Check if the tile is a product tile\n",
    "    if 'product-tile' in tile.get('class', []):\n",
    "        # Extract the product name\n",
    "        name_tag = tile.find('h3', class_='product-tile__product-name')\n",
    "        if name_tag and name_tag.a:\n",
    "            product_name = name_tag.a.get_text(strip=True)\n",
    "        else:\n",
    "            continue\n",
    "        \n",
    "        # Extract the price\n",
    "        price_tag = tile.find('span', class_='price')\n",
    "        if price_tag:\n",
    "            price = price_tag.get_text(strip=True)\n",
    "        else:\n",
    "            continue\n",
    "        \n",
    "        # Append to the lists\n",
    "        product_names.append(product_name)\n",
    "        prices.append(price)\n",
    "\n",
    "# Create a DataFrame\n",
    "df = pd.DataFrame({\n",
    "    'Product Name': product_names,\n",
    "    'Price': prices\n",
    "})"
   ]
  },
  {
   "cell_type": "code",
   "execution_count": 102,
   "metadata": {},
   "outputs": [
    {
     "data": {
      "text/plain": [
       "(846, 2)"
      ]
     },
     "execution_count": 102,
     "metadata": {},
     "output_type": "execute_result"
    }
   ],
   "source": [
    "df.shape"
   ]
  },
  {
   "cell_type": "code",
   "execution_count": 103,
   "metadata": {},
   "outputs": [
    {
     "data": {
      "text/html": [
       "<div>\n",
       "<style scoped>\n",
       "    .dataframe tbody tr th:only-of-type {\n",
       "        vertical-align: middle;\n",
       "    }\n",
       "\n",
       "    .dataframe tbody tr th {\n",
       "        vertical-align: top;\n",
       "    }\n",
       "\n",
       "    .dataframe thead th {\n",
       "        text-align: right;\n",
       "    }\n",
       "</style>\n",
       "<table border=\"1\" class=\"dataframe\">\n",
       "  <thead>\n",
       "    <tr style=\"text-align: right;\">\n",
       "      <th></th>\n",
       "      <th>Product Name</th>\n",
       "      <th>Price</th>\n",
       "    </tr>\n",
       "  </thead>\n",
       "  <tbody>\n",
       "    <tr>\n",
       "      <th>474</th>\n",
       "      <td>Scuba Oversized Hoodie \\\\nVelvet Cord</td>\n",
       "      <td>Sale Price$89Regular Price$148</td>\n",
       "    </tr>\n",
       "    <tr>\n",
       "      <th>475</th>\n",
       "      <td>Fast and Free High-Rise Tight 25\"</td>\n",
       "      <td>Sale Price$69Regular Price$128</td>\n",
       "    </tr>\n",
       "    <tr>\n",
       "      <th>476</th>\n",
       "      <td>Hotty Hot High-Rise Lined Short 4\"</td>\n",
       "      <td>Sale Price$49Regular Price$68</td>\n",
       "    </tr>\n",
       "    <tr>\n",
       "      <th>477</th>\n",
       "      <td>Speed Up Low-Rise Lined Short 2.5\"</td>\n",
       "      <td>Sale Price$39-$59Regular Price$68</td>\n",
       "    </tr>\n",
       "    <tr>\n",
       "      <th>478</th>\n",
       "      <td>lululemon Align\\'99 High-Rise Short 6\"</td>\n",
       "      <td>Sale Price$39-$59Regular Price$64</td>\n",
       "    </tr>\n",
       "  </tbody>\n",
       "</table>\n",
       "</div>"
      ],
      "text/plain": [
       "                               Product Name                              Price\n",
       "474   Scuba Oversized Hoodie \\\\nVelvet Cord     Sale Price$89Regular Price$148\n",
       "475       Fast and Free High-Rise Tight 25\"     Sale Price$69Regular Price$128\n",
       "476      Hotty Hot High-Rise Lined Short 4\"      Sale Price$49Regular Price$68\n",
       "477      Speed Up Low-Rise Lined Short 2.5\"  Sale Price$39-$59Regular Price$68\n",
       "478  lululemon Align\\'99 High-Rise Short 6\"  Sale Price$39-$59Regular Price$64"
      ]
     },
     "execution_count": 103,
     "metadata": {},
     "output_type": "execute_result"
    }
   ],
   "source": [
    "price_string_df = df[df['Price'].str.lower().str.contains('price', case=False, na=False)]\n",
    "price_string_df.head()"
   ]
  },
  {
   "cell_type": "markdown",
   "metadata": {},
   "source": [
    "Note that the product with index 478 has a double problem: Sale Price text AND a range. Our final dataset needs to show this price value as being 49 (the average of the range in the sale price). "
   ]
  },
  {
   "cell_type": "code",
   "execution_count": 105,
   "metadata": {},
   "outputs": [
    {
     "data": {
      "text/html": [
       "<div>\n",
       "<style scoped>\n",
       "    .dataframe tbody tr th:only-of-type {\n",
       "        vertical-align: middle;\n",
       "    }\n",
       "\n",
       "    .dataframe tbody tr th {\n",
       "        vertical-align: top;\n",
       "    }\n",
       "\n",
       "    .dataframe thead th {\n",
       "        text-align: right;\n",
       "    }\n",
       "</style>\n",
       "<table border=\"1\" class=\"dataframe\">\n",
       "  <thead>\n",
       "    <tr style=\"text-align: right;\">\n",
       "      <th></th>\n",
       "      <th>Product Name</th>\n",
       "      <th>Price</th>\n",
       "    </tr>\n",
       "  </thead>\n",
       "  <tbody>\n",
       "    <tr>\n",
       "      <th>747</th>\n",
       "      <td>It's Rulu Long-Sleeve Hoodie</td>\n",
       "      <td>Sale Price$74-$84Regular Price$118</td>\n",
       "    </tr>\n",
       "    <tr>\n",
       "      <th>783</th>\n",
       "      <td>Wundermost Ultra-Soft Nulu Long-Sleeve One-Sho...</td>\n",
       "      <td>Sale Price$49-$64Regular Price$88</td>\n",
       "    </tr>\n",
       "    <tr>\n",
       "      <th>785</th>\n",
       "      <td>Wundermost Ultra-Soft Nulu Turtleneck Bodysuit</td>\n",
       "      <td>Sale Price$34-$59Regular Price$88</td>\n",
       "    </tr>\n",
       "    <tr>\n",
       "      <th>815</th>\n",
       "      <td>Wunder Train Aerobic High-Rise Tight 25\" \\\\nTwill</td>\n",
       "      <td>Sale Price$69-$79Regular Price$118</td>\n",
       "    </tr>\n",
       "    <tr>\n",
       "      <th>821</th>\n",
       "      <td>Power Pivot Everlux Tank Top</td>\n",
       "      <td>Sale Price$29-$49Regular Price$68</td>\n",
       "    </tr>\n",
       "  </tbody>\n",
       "</table>\n",
       "</div>"
      ],
      "text/plain": [
       "                                          Product Name  \\\n",
       "747                       It's Rulu Long-Sleeve Hoodie   \n",
       "783  Wundermost Ultra-Soft Nulu Long-Sleeve One-Sho...   \n",
       "785     Wundermost Ultra-Soft Nulu Turtleneck Bodysuit   \n",
       "815  Wunder Train Aerobic High-Rise Tight 25\" \\\\nTwill   \n",
       "821                       Power Pivot Everlux Tank Top   \n",
       "\n",
       "                                  Price  \n",
       "747  Sale Price$74-$84Regular Price$118  \n",
       "783   Sale Price$49-$64Regular Price$88  \n",
       "785   Sale Price$34-$59Regular Price$88  \n",
       "815  Sale Price$69-$79Regular Price$118  \n",
       "821   Sale Price$29-$49Regular Price$68  "
      ]
     },
     "execution_count": 105,
     "metadata": {},
     "output_type": "execute_result"
    }
   ],
   "source": [
    "range_df = df[df['Price'].str.lower().str.contains('-', case=False, na=False)]\n",
    "range_df.tail()"
   ]
  },
  {
   "cell_type": "markdown",
   "metadata": {},
   "source": [
    "We also need to fix these products that have the price listed as a range. We need to ensure that the sale price is listed, not the regular price. The most fair way to do this would be to take the average price in the range, whether it is a sale price range or a regular range. "
   ]
  },
  {
   "cell_type": "code",
   "execution_count": 106,
   "metadata": {},
   "outputs": [
    {
     "data": {
      "text/plain": [
       "(75, 2)"
      ]
     },
     "execution_count": 106,
     "metadata": {},
     "output_type": "execute_result"
    }
   ],
   "source": [
    "range_df.shape"
   ]
  },
  {
   "cell_type": "markdown",
   "metadata": {},
   "source": [
    "Luckily, there are only 75 products that have a price that is actually a range. "
   ]
  },
  {
   "cell_type": "code",
   "execution_count": 107,
   "metadata": {},
   "outputs": [],
   "source": [
    "# extract all sales prices and sales ranges \n",
    "df['Price'] = df['Price'].apply(lambda item: item.replace(\"Sale Price\", \"\").split('R')[0].strip())\n",
    "\n",
    "# now handle the ranges \n",
    "df['Price'] = df['Price'].apply(lambda item: \n",
    "                                f\"${(float(item.split('-')[0].replace('$', '')) + float(item.split('-')[1].replace('$', ''))) / 2:.2f}\" \n",
    "                                if '-' in item\n",
    "                                else item)\n",
    "\n",
    "df['Price'] = df['Price'].str.replace('$', '', regex=False).str.replace(',', '').astype(float)\n",
    "\n",
    "# test \n",
    "#a = df[df['Product Name'].str.contains(\"'99 High-Rise Short 6\", case=False, na=False)]"
   ]
  },
  {
   "cell_type": "markdown",
   "metadata": {},
   "source": [
    "Now for the final test. Does the product at index 478 have a new price of 49? "
   ]
  },
  {
   "cell_type": "code",
   "execution_count": 108,
   "metadata": {},
   "outputs": [
    {
     "name": "stdout",
     "output_type": "stream",
     "text": [
      "Product Name    lululemon Align\\'99 High-Rise Short 6\"\n",
      "Price                                             49.0\n",
      "Name: 478, dtype: object\n"
     ]
    }
   ],
   "source": [
    "a = df.iloc[478]\n",
    "print(a)"
   ]
  },
  {
   "cell_type": "markdown",
   "metadata": {},
   "source": [
    "Great! Now we can repeat with the mens stuff and then clean all the product labels. "
   ]
  },
  {
   "cell_type": "code",
   "execution_count": 124,
   "metadata": {},
   "outputs": [],
   "source": [
    "df.to_csv(\"lululemon_womens_data.csv\", index=False)"
   ]
  },
  {
   "cell_type": "code",
   "execution_count": 117,
   "metadata": {},
   "outputs": [],
   "source": [
    "with open('/Users/anikamisra/Desktop/personal-projects/pink-tax/lululemon/lululemon_products_mens.html', 'r') as html_file:\n",
    "    content = html_file.read()\n",
    "\n",
    "soup = BeautifulSoup(content, 'html.parser')\n",
    "\n",
    "product_tiles = soup.find_all('div', class_='product-tile')\n",
    "\n",
    "# Lists to hold product names and prices\n",
    "product_names = []\n",
    "prices = []\n",
    "\n",
    "for tile in product_tiles:\n",
    "    # Check if the tile is a product tile\n",
    "    if 'product-tile' in tile.get('class', []):\n",
    "        # Extract the product name\n",
    "        name_tag = tile.find('h3', class_='product-tile__product-name')\n",
    "        if name_tag and name_tag.a:\n",
    "            product_name = name_tag.a.get_text(strip=True)\n",
    "        else:\n",
    "            continue\n",
    "        \n",
    "        # Extract the price\n",
    "        price_tag = tile.find('span', class_='price')\n",
    "        if price_tag:\n",
    "            price = price_tag.get_text(strip=True)\n",
    "        else:\n",
    "            continue\n",
    "        \n",
    "        # Append to the lists\n",
    "        product_names.append(product_name)\n",
    "        prices.append(price)\n",
    "\n",
    "# Create a DataFrame\n",
    "df_m = pd.DataFrame({\n",
    "    'Product Name': product_names,\n",
    "    'Price': prices\n",
    "})"
   ]
  },
  {
   "cell_type": "code",
   "execution_count": 118,
   "metadata": {},
   "outputs": [
    {
     "data": {
      "text/plain": [
       "(537, 2)"
      ]
     },
     "execution_count": 118,
     "metadata": {},
     "output_type": "execute_result"
    }
   ],
   "source": [
    "df_m.shape"
   ]
  },
  {
   "cell_type": "code",
   "execution_count": 119,
   "metadata": {},
   "outputs": [
    {
     "name": "stdout",
     "output_type": "stream",
     "text": [
      "These are the number of products that have prices as ranges:  50\n"
     ]
    },
    {
     "data": {
      "text/html": [
       "<div>\n",
       "<style scoped>\n",
       "    .dataframe tbody tr th:only-of-type {\n",
       "        vertical-align: middle;\n",
       "    }\n",
       "\n",
       "    .dataframe tbody tr th {\n",
       "        vertical-align: top;\n",
       "    }\n",
       "\n",
       "    .dataframe thead th {\n",
       "        text-align: right;\n",
       "    }\n",
       "</style>\n",
       "<table border=\"1\" class=\"dataframe\">\n",
       "  <thead>\n",
       "    <tr style=\"text-align: right;\">\n",
       "      <th></th>\n",
       "      <th>Product Name</th>\n",
       "      <th>Price</th>\n",
       "    </tr>\n",
       "  </thead>\n",
       "  <tbody>\n",
       "    <tr>\n",
       "      <th>289</th>\n",
       "      <td>Never Lost Keychain</td>\n",
       "      <td>$20-$24</td>\n",
       "    </tr>\n",
       "    <tr>\n",
       "      <th>292</th>\n",
       "      <td>The Mat 5mm \\\\nMade With FSC\\'99 Certified Rubber</td>\n",
       "      <td>$94-$98</td>\n",
       "    </tr>\n",
       "    <tr>\n",
       "      <th>294</th>\n",
       "      <td>The Mat 3mm \\\\nMade With FSC\\'99 Certified Rubber</td>\n",
       "      <td>$78-$88</td>\n",
       "    </tr>\n",
       "    <tr>\n",
       "      <th>346</th>\n",
       "      <td>Pace Breaker Linerless Short 7\"</td>\n",
       "      <td>Sale Price$39-$59Regular Price$68</td>\n",
       "    </tr>\n",
       "    <tr>\n",
       "      <th>347</th>\n",
       "      <td>License to Train Short-Sleeve Shirt</td>\n",
       "      <td>Sale Price$39-$54Regular Price$78</td>\n",
       "    </tr>\n",
       "  </tbody>\n",
       "</table>\n",
       "</div>"
      ],
      "text/plain": [
       "                                          Product Name  \\\n",
       "289                                Never Lost Keychain   \n",
       "292  The Mat 5mm \\\\nMade With FSC\\'99 Certified Rubber   \n",
       "294  The Mat 3mm \\\\nMade With FSC\\'99 Certified Rubber   \n",
       "346                    Pace Breaker Linerless Short 7\"   \n",
       "347                License to Train Short-Sleeve Shirt   \n",
       "\n",
       "                                 Price  \n",
       "289                            $20-$24  \n",
       "292                            $94-$98  \n",
       "294                            $78-$88  \n",
       "346  Sale Price$39-$59Regular Price$68  \n",
       "347  Sale Price$39-$54Regular Price$78  "
      ]
     },
     "execution_count": 119,
     "metadata": {},
     "output_type": "execute_result"
    }
   ],
   "source": [
    "range_df_m = df_m[df_m['Price'].str.lower().str.contains('-', case=False, na=False)]\n",
    "print(\"These are the number of products that have prices as ranges: \", range_df_m.shape[0])\n",
    "range_df_m.head()"
   ]
  },
  {
   "cell_type": "code",
   "execution_count": 120,
   "metadata": {},
   "outputs": [],
   "source": [
    "# extract all sales prices and sales ranges \n",
    "df_m['Price'] = df_m['Price'].apply(lambda item: item.replace(\"Sale Price\", \"\").split('R')[0].strip())\n",
    "\n",
    "# now handle the ranges \n",
    "df_m['Price'] = df_m['Price'].apply(lambda item: \n",
    "                                f\"${(float(item.split('-')[0].replace('$', '')) + float(item.split('-')[1].replace('$', ''))) / 2:.2f}\" \n",
    "                                if '-' in item\n",
    "                                else item)\n",
    "\n",
    "df_m['Price'] = df_m['Price'].str.replace('$', '', regex=False).str.replace(',', '').astype(float)"
   ]
  },
  {
   "cell_type": "code",
   "execution_count": 122,
   "metadata": {},
   "outputs": [
    {
     "name": "stdout",
     "output_type": "stream",
     "text": [
      "Product Name    Commission Long-Sleeve Shirt \\\\nOxford\n",
      "Price                                             54.0\n",
      "Name: 442, dtype: object\n"
     ]
    }
   ],
   "source": [
    "# final test \n",
    "a = df_m.iloc[442]\n",
    "print(a)"
   ]
  },
  {
   "cell_type": "markdown",
   "metadata": {},
   "source": [
    "That is indeed the average from 49 to 59. Great. "
   ]
  },
  {
   "cell_type": "code",
   "execution_count": 125,
   "metadata": {},
   "outputs": [],
   "source": [
    "df_m.to_csv(\"lululemon_mens_data.csv\", index=False)"
   ]
  }
 ],
 "metadata": {
  "kernelspec": {
   "display_name": "Python 3",
   "language": "python",
   "name": "python3"
  },
  "language_info": {
   "codemirror_mode": {
    "name": "ipython",
    "version": 3
   },
   "file_extension": ".py",
   "mimetype": "text/x-python",
   "name": "python",
   "nbconvert_exporter": "python",
   "pygments_lexer": "ipython3",
   "version": "3.9.15"
  }
 },
 "nbformat": 4,
 "nbformat_minor": 2
}
